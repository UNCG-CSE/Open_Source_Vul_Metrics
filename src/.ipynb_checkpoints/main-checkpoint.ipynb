{
 "cells": [
  {
   "cell_type": "code",
   "execution_count": 155,
   "metadata": {},
   "outputs": [],
   "source": [
    "import numpy as np\n",
    "import matplotlib as plt\n",
    "import matplotlib.pyplot\n",
    "import pandas as pd"
   ]
  },
  {
   "cell_type": "markdown",
   "metadata": {},
   "source": []
  },
  {
   "cell_type": "code",
   "execution_count": 108,
   "metadata": {},
   "outputs": [],
   "source": [
    "def hex_str(str):\n",
    "    return bytes.fromhex((str).replace('\\\\x','')).decode('utf-8')\n",
    "\n",
    "def date_str(str):\n",
    "    return pd.to_datetime(str, format='%Y-%m-%dT%H:%M:%S.000Z')"
   ]
  },
  {
   "cell_type": "code",
   "execution_count": 59,
   "metadata": {},
   "outputs": [],
   "source": [
    "release_header = ['id', 'target', 'date', 'date_offset', 'name', 'comment', 'author']\n",
    "revision_header = ['id', 'date', 'committer_date', 'directory', 'message', 'author', 'committer']\n",
    "release_path = 'D:/data/open_source/release.csv'"
   ]
  },
  {
   "cell_type": "code",
   "execution_count": 121,
   "metadata": {},
   "outputs": [],
   "source": [
    "release_df = pd.read_csv(release_path, names=release_header, converters={'date':date_str,'comment':hex_str})\n",
    "release_df = release_df[['id','date','name','comment','author']]"
   ]
  },
  {
   "cell_type": "code",
   "execution_count": 122,
   "metadata": {},
   "outputs": [
    {
     "data": {
      "text/html": [
       "<div>\n",
       "<style scoped>\n",
       "    .dataframe tbody tr th:only-of-type {\n",
       "        vertical-align: middle;\n",
       "    }\n",
       "\n",
       "    .dataframe tbody tr th {\n",
       "        vertical-align: top;\n",
       "    }\n",
       "\n",
       "    .dataframe thead th {\n",
       "        text-align: right;\n",
       "    }\n",
       "</style>\n",
       "<table border=\"1\" class=\"dataframe\">\n",
       "  <thead>\n",
       "    <tr style=\"text-align: right;\">\n",
       "      <th></th>\n",
       "      <th>id</th>\n",
       "      <th>date</th>\n",
       "      <th>name</th>\n",
       "      <th>comment</th>\n",
       "      <th>author</th>\n",
       "    </tr>\n",
       "  </thead>\n",
       "  <tbody>\n",
       "    <tr>\n",
       "      <th>0</th>\n",
       "      <td>\\xae671a0067dbeabbc3cb546705edc1f81f71a193</td>\n",
       "      <td>2015-02-03 21:58:44</td>\n",
       "      <td>\\x72656c656173652d323031352d30322d3034</td>\n",
       "      <td>Release for February 4th, 2015\\n</td>\n",
       "      <td>91949</td>\n",
       "    </tr>\n",
       "    <tr>\n",
       "      <th>1</th>\n",
       "      <td>\\x33e2c27d1ec224a54ed7ca4a6e09c352e92a227d</td>\n",
       "      <td>2013-07-05 04:58:14</td>\n",
       "      <td>\\x76302e32392e31</td>\n",
       "      <td>tag version 0.29.1\\n</td>\n",
       "      <td>140982</td>\n",
       "    </tr>\n",
       "    <tr>\n",
       "      <th>2</th>\n",
       "      <td>\\x1f9bcd823807f41afaab6b74b34473531ca7eb30</td>\n",
       "      <td>2013-03-29 13:02:20</td>\n",
       "      <td>\\x76332e302e30</td>\n",
       "      <td>What's new in Tornado 3.0\\n===================...</td>\n",
       "      <td>207066</td>\n",
       "    </tr>\n",
       "    <tr>\n",
       "      <th>3</th>\n",
       "      <td>\\x3206fb28a040494bac6973310e7f21f031989da6</td>\n",
       "      <td>2010-12-09 04:14:19</td>\n",
       "      <td>\\x6275696c642d343639</td>\n",
       "      <td>Windows build SickBeard-win32-alpha-build469\\n</td>\n",
       "      <td>875380</td>\n",
       "    </tr>\n",
       "    <tr>\n",
       "      <th>4</th>\n",
       "      <td>\\x652fc27cf9fe9262d2c941d6385043efa41016da</td>\n",
       "      <td>2011-11-08 01:22:48</td>\n",
       "      <td>\\x312e312e36</td>\n",
       "      <td>Fabric 1.1.6\\n</td>\n",
       "      <td>63770</td>\n",
       "    </tr>\n",
       "  </tbody>\n",
       "</table>\n",
       "</div>"
      ],
      "text/plain": [
       "                                           id                date  \\\n",
       "0  \\xae671a0067dbeabbc3cb546705edc1f81f71a193 2015-02-03 21:58:44   \n",
       "1  \\x33e2c27d1ec224a54ed7ca4a6e09c352e92a227d 2013-07-05 04:58:14   \n",
       "2  \\x1f9bcd823807f41afaab6b74b34473531ca7eb30 2013-03-29 13:02:20   \n",
       "3  \\x3206fb28a040494bac6973310e7f21f031989da6 2010-12-09 04:14:19   \n",
       "4  \\x652fc27cf9fe9262d2c941d6385043efa41016da 2011-11-08 01:22:48   \n",
       "\n",
       "                                     name  \\\n",
       "0  \\x72656c656173652d323031352d30322d3034   \n",
       "1                        \\x76302e32392e31   \n",
       "2                          \\x76332e302e30   \n",
       "3                    \\x6275696c642d343639   \n",
       "4                            \\x312e312e36   \n",
       "\n",
       "                                             comment  author  \n",
       "0                   Release for February 4th, 2015\\n   91949  \n",
       "1                               tag version 0.29.1\\n  140982  \n",
       "2  What's new in Tornado 3.0\\n===================...  207066  \n",
       "3     Windows build SickBeard-win32-alpha-build469\\n  875380  \n",
       "4                                     Fabric 1.1.6\\n   63770  "
      ]
     },
     "execution_count": 122,
     "metadata": {},
     "output_type": "execute_result"
    }
   ],
   "source": [
    "release_df.head()"
   ]
  },
  {
   "cell_type": "code",
   "execution_count": 156,
   "metadata": {},
   "outputs": [
    {
     "ename": "AttributeError",
     "evalue": "module 'matplotlib' has no attribute 'plot'",
     "output_type": "error",
     "traceback": [
      "\u001b[1;31m---------------------------------------------------------------------------\u001b[0m",
      "\u001b[1;31mAttributeError\u001b[0m                            Traceback (most recent call last)",
      "\u001b[1;32m<ipython-input-156-55beff50c98f>\u001b[0m in \u001b[0;36m<module>\u001b[1;34m\u001b[0m\n\u001b[0;32m      3\u001b[0m \u001b[1;31m#release_df.groupby(release_df.date).count()\u001b[0m\u001b[1;33m\u001b[0m\u001b[1;33m\u001b[0m\u001b[0m\n\u001b[0;32m      4\u001b[0m \u001b[1;33m\u001b[0m\u001b[0m\n\u001b[1;32m----> 5\u001b[1;33m \u001b[0mplt\u001b[0m\u001b[1;33m.\u001b[0m\u001b[0mplot\u001b[0m\u001b[1;33m(\u001b[0m \u001b[0mrelease_df\u001b[0m \u001b[1;33m)\u001b[0m\u001b[1;33m\u001b[0m\u001b[0m\n\u001b[0m\u001b[0;32m      6\u001b[0m \u001b[0mplt\u001b[0m\u001b[1;33m.\u001b[0m\u001b[0mshow\u001b[0m\u001b[1;33m(\u001b[0m\u001b[1;33m)\u001b[0m\u001b[1;33m\u001b[0m\u001b[0m\n",
      "\u001b[1;31mAttributeError\u001b[0m: module 'matplotlib' has no attribute 'plot'"
     ]
    }
   ],
   "source": [
    "release_df = realease_df.resample('D', on='date').count()[['comment']]\n",
    "\n",
    "#release_df.groupby(release_df.date).count()\n",
    "\n",
    "plt.plot( release_df )\n",
    "plt.show()"
   ]
  },
  {
   "cell_type": "code",
   "execution_count": 115,
   "metadata": {},
   "outputs": [
    {
     "data": {
      "text/html": [
       "<div>\n",
       "<style scoped>\n",
       "    .dataframe tbody tr th:only-of-type {\n",
       "        vertical-align: middle;\n",
       "    }\n",
       "\n",
       "    .dataframe tbody tr th {\n",
       "        vertical-align: top;\n",
       "    }\n",
       "\n",
       "    .dataframe thead th {\n",
       "        text-align: right;\n",
       "    }\n",
       "</style>\n",
       "<table border=\"1\" class=\"dataframe\">\n",
       "  <thead>\n",
       "    <tr style=\"text-align: right;\">\n",
       "      <th></th>\n",
       "      <th>id</th>\n",
       "      <th>target</th>\n",
       "      <th>date</th>\n",
       "      <th>date_offset</th>\n",
       "      <th>name</th>\n",
       "      <th>comment</th>\n",
       "      <th>author</th>\n",
       "    </tr>\n",
       "  </thead>\n",
       "  <tbody>\n",
       "    <tr>\n",
       "      <th>0</th>\n",
       "      <td>\\xae671a0067dbeabbc3cb546705edc1f81f71a193</td>\n",
       "      <td>\\xaa2406d3c8d2ab98ad5899406622b30fb66741d5</td>\n",
       "      <td>2015-02-03 21:58:44</td>\n",
       "      <td>-300</td>\n",
       "      <td>\\x72656c656173652d323031352d30322d3034</td>\n",
       "      <td>Release for February 4th, 2015\\n</td>\n",
       "      <td>91949</td>\n",
       "    </tr>\n",
       "    <tr>\n",
       "      <th>1</th>\n",
       "      <td>\\x33e2c27d1ec224a54ed7ca4a6e09c352e92a227d</td>\n",
       "      <td>\\xdbfd0e0f6319809f41802088338ad0a1c5af5890</td>\n",
       "      <td>2013-07-05 04:58:14</td>\n",
       "      <td>480</td>\n",
       "      <td>\\x76302e32392e31</td>\n",
       "      <td>tag version 0.29.1\\n</td>\n",
       "      <td>140982</td>\n",
       "    </tr>\n",
       "    <tr>\n",
       "      <th>2</th>\n",
       "      <td>\\x1f9bcd823807f41afaab6b74b34473531ca7eb30</td>\n",
       "      <td>\\x6c6b72f3a38771792717857c914b976a1a5187cb</td>\n",
       "      <td>2013-03-29 13:02:20</td>\n",
       "      <td>-240</td>\n",
       "      <td>\\x76332e302e30</td>\n",
       "      <td>What's new in Tornado 3.0\\n===================...</td>\n",
       "      <td>207066</td>\n",
       "    </tr>\n",
       "    <tr>\n",
       "      <th>3</th>\n",
       "      <td>\\x3206fb28a040494bac6973310e7f21f031989da6</td>\n",
       "      <td>\\x10688579d757bd87fc709189813bdf1a66e780d3</td>\n",
       "      <td>2010-12-09 04:14:19</td>\n",
       "      <td>-420</td>\n",
       "      <td>\\x6275696c642d343639</td>\n",
       "      <td>Windows build SickBeard-win32-alpha-build469\\n</td>\n",
       "      <td>875380</td>\n",
       "    </tr>\n",
       "    <tr>\n",
       "      <th>4</th>\n",
       "      <td>\\x652fc27cf9fe9262d2c941d6385043efa41016da</td>\n",
       "      <td>\\xdc983cd294d5f8101e3177afacf997cb71c24ccb</td>\n",
       "      <td>2011-11-08 01:22:48</td>\n",
       "      <td>-480</td>\n",
       "      <td>\\x312e312e36</td>\n",
       "      <td>Fabric 1.1.6\\n</td>\n",
       "      <td>63770</td>\n",
       "    </tr>\n",
       "  </tbody>\n",
       "</table>\n",
       "</div>"
      ],
      "text/plain": [
       "                                           id  \\\n",
       "0  \\xae671a0067dbeabbc3cb546705edc1f81f71a193   \n",
       "1  \\x33e2c27d1ec224a54ed7ca4a6e09c352e92a227d   \n",
       "2  \\x1f9bcd823807f41afaab6b74b34473531ca7eb30   \n",
       "3  \\x3206fb28a040494bac6973310e7f21f031989da6   \n",
       "4  \\x652fc27cf9fe9262d2c941d6385043efa41016da   \n",
       "\n",
       "                                       target                date  \\\n",
       "0  \\xaa2406d3c8d2ab98ad5899406622b30fb66741d5 2015-02-03 21:58:44   \n",
       "1  \\xdbfd0e0f6319809f41802088338ad0a1c5af5890 2013-07-05 04:58:14   \n",
       "2  \\x6c6b72f3a38771792717857c914b976a1a5187cb 2013-03-29 13:02:20   \n",
       "3  \\x10688579d757bd87fc709189813bdf1a66e780d3 2010-12-09 04:14:19   \n",
       "4  \\xdc983cd294d5f8101e3177afacf997cb71c24ccb 2011-11-08 01:22:48   \n",
       "\n",
       "   date_offset                                    name  \\\n",
       "0         -300  \\x72656c656173652d323031352d30322d3034   \n",
       "1          480                        \\x76302e32392e31   \n",
       "2         -240                          \\x76332e302e30   \n",
       "3         -420                    \\x6275696c642d343639   \n",
       "4         -480                            \\x312e312e36   \n",
       "\n",
       "                                             comment  author  \n",
       "0                   Release for February 4th, 2015\\n   91949  \n",
       "1                               tag version 0.29.1\\n  140982  \n",
       "2  What's new in Tornado 3.0\\n===================...  207066  \n",
       "3     Windows build SickBeard-win32-alpha-build469\\n  875380  \n",
       "4                                     Fabric 1.1.6\\n   63770  "
      ]
     },
     "execution_count": 115,
     "metadata": {},
     "output_type": "execute_result"
    }
   ],
   "source": [
    "herit_df.head()"
   ]
  },
  {
   "cell_type": "code",
   "execution_count": 24,
   "metadata": {},
   "outputs": [],
   "source": [
    "nvd_df = pd.read_json('D:/data/open_source/NVD/nvdcve-1.1-2018.json.zip')"
   ]
  },
  {
   "cell_type": "code",
   "execution_count": 37,
   "metadata": {},
   "outputs": [
    {
     "data": {
      "text/html": [
       "<div>\n",
       "<style scoped>\n",
       "    .dataframe tbody tr th:only-of-type {\n",
       "        vertical-align: middle;\n",
       "    }\n",
       "\n",
       "    .dataframe tbody tr th {\n",
       "        vertical-align: top;\n",
       "    }\n",
       "\n",
       "    .dataframe thead th {\n",
       "        text-align: right;\n",
       "    }\n",
       "</style>\n",
       "<table border=\"1\" class=\"dataframe\">\n",
       "  <thead>\n",
       "    <tr style=\"text-align: right;\">\n",
       "      <th></th>\n",
       "      <th>CVE_data_type</th>\n",
       "      <th>CVE_data_format</th>\n",
       "      <th>CVE_data_version</th>\n",
       "      <th>CVE_data_numberOfCVEs</th>\n",
       "      <th>CVE_data_timestamp</th>\n",
       "      <th>CVE_Items</th>\n",
       "    </tr>\n",
       "  </thead>\n",
       "  <tbody>\n",
       "    <tr>\n",
       "      <th>0</th>\n",
       "      <td>CVE</td>\n",
       "      <td>MITRE</td>\n",
       "      <td>4</td>\n",
       "      <td>15858</td>\n",
       "      <td>2019-09-19T07:15Z</td>\n",
       "      <td>{'cve': {'data_type': 'CVE', 'data_format': 'M...</td>\n",
       "    </tr>\n",
       "    <tr>\n",
       "      <th>1</th>\n",
       "      <td>CVE</td>\n",
       "      <td>MITRE</td>\n",
       "      <td>4</td>\n",
       "      <td>15858</td>\n",
       "      <td>2019-09-19T07:15Z</td>\n",
       "      <td>{'cve': {'data_type': 'CVE', 'data_format': 'M...</td>\n",
       "    </tr>\n",
       "    <tr>\n",
       "      <th>2</th>\n",
       "      <td>CVE</td>\n",
       "      <td>MITRE</td>\n",
       "      <td>4</td>\n",
       "      <td>15858</td>\n",
       "      <td>2019-09-19T07:15Z</td>\n",
       "      <td>{'cve': {'data_type': 'CVE', 'data_format': 'M...</td>\n",
       "    </tr>\n",
       "    <tr>\n",
       "      <th>3</th>\n",
       "      <td>CVE</td>\n",
       "      <td>MITRE</td>\n",
       "      <td>4</td>\n",
       "      <td>15858</td>\n",
       "      <td>2019-09-19T07:15Z</td>\n",
       "      <td>{'cve': {'data_type': 'CVE', 'data_format': 'M...</td>\n",
       "    </tr>\n",
       "    <tr>\n",
       "      <th>4</th>\n",
       "      <td>CVE</td>\n",
       "      <td>MITRE</td>\n",
       "      <td>4</td>\n",
       "      <td>15858</td>\n",
       "      <td>2019-09-19T07:15Z</td>\n",
       "      <td>{'cve': {'data_type': 'CVE', 'data_format': 'M...</td>\n",
       "    </tr>\n",
       "  </tbody>\n",
       "</table>\n",
       "</div>"
      ],
      "text/plain": [
       "  CVE_data_type CVE_data_format  CVE_data_version  CVE_data_numberOfCVEs  \\\n",
       "0           CVE           MITRE                 4                  15858   \n",
       "1           CVE           MITRE                 4                  15858   \n",
       "2           CVE           MITRE                 4                  15858   \n",
       "3           CVE           MITRE                 4                  15858   \n",
       "4           CVE           MITRE                 4                  15858   \n",
       "\n",
       "  CVE_data_timestamp                                          CVE_Items  \n",
       "0  2019-09-19T07:15Z  {'cve': {'data_type': 'CVE', 'data_format': 'M...  \n",
       "1  2019-09-19T07:15Z  {'cve': {'data_type': 'CVE', 'data_format': 'M...  \n",
       "2  2019-09-19T07:15Z  {'cve': {'data_type': 'CVE', 'data_format': 'M...  \n",
       "3  2019-09-19T07:15Z  {'cve': {'data_type': 'CVE', 'data_format': 'M...  \n",
       "4  2019-09-19T07:15Z  {'cve': {'data_type': 'CVE', 'data_format': 'M...  "
      ]
     },
     "execution_count": 37,
     "metadata": {},
     "output_type": "execute_result"
    }
   ],
   "source": [
    "nvd_df.head()"
   ]
  },
  {
   "cell_type": "code",
   "execution_count": 28,
   "metadata": {},
   "outputs": [
    {
     "data": {
      "text/plain": [
       "'Release for February 4th, 2015\\n'"
      ]
     },
     "execution_count": 28,
     "metadata": {},
     "output_type": "execute_result"
    }
   ],
   "source": [
    "hex_str(df['comment'][0])"
   ]
  },
  {
   "cell_type": "code",
   "execution_count": null,
   "metadata": {},
   "outputs": [],
   "source": [
    "df['comment']"
   ]
  }
 ],
 "metadata": {
  "kernelspec": {
   "display_name": "Python 3",
   "language": "python",
   "name": "python3"
  },
  "language_info": {
   "codemirror_mode": {
    "name": "ipython",
    "version": 3
   },
   "file_extension": ".py",
   "mimetype": "text/x-python",
   "name": "python",
   "nbconvert_exporter": "python",
   "pygments_lexer": "ipython3",
   "version": "3.6.5"
  }
 },
 "nbformat": 4,
 "nbformat_minor": 2
}
