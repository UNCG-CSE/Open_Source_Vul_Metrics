{
 "cells": [
  {
   "cell_type": "code",
   "execution_count": 1,
   "metadata": {},
   "outputs": [
    {
     "name": "stdout",
     "output_type": "stream",
     "text": [
      "Populating the interactive namespace from numpy and matplotlib\n"
     ]
    }
   ],
   "source": [
    "%pylab inline\n",
    "from numpy import *"
   ]
  },
  {
   "cell_type": "code",
   "execution_count": 2,
   "metadata": {},
   "outputs": [],
   "source": [
    "import json\n",
    "with open('../data/nvdcve-1.1-modified.json') as j:\n",
    "    data = json.load(j)\n",
    "    \n",
    "cveArray = [];\n",
    "cveItemsSize = len(data[\"CVE_Items\"]) # Gives us the number of CVEs\n",
    "cveItemsSize = 1\n",
    "for r in range(cveItemsSize):\n",
    "    cveArray.append([])"
   ]
  },
  {
   "cell_type": "markdown",
   "metadata": {},
   "source": [
    "CVE Information"
   ]
  },
  {
   "cell_type": "code",
   "execution_count": 3,
   "metadata": {},
   "outputs": [],
   "source": [
    "for r in range(cveItemsSize):\n",
    "    cveArray[r].append(\"CVE Data Type: \" + data[\"CVE_Items\"][r][\"cve\"][\"data_type\"])\n",
    "    cveArray[r].append(\"CVE Data Format: \" + data[\"CVE_Items\"][r][\"cve\"][\"data_format\"])\n",
    "    cveArray[r].append(\"CVE Data Version: \" + data[\"CVE_Items\"][r][\"cve\"][\"data_version\"])\n",
    "    # CVE_data_meta\n",
    "    cveArray[r].append(\"ID: \" + data[\"CVE_Items\"][r][\"cve\"][\"CVE_data_meta\"][\"ID\"])\n",
    "    cveArray[r].append(\"CVE Data Version: \" + data[\"CVE_Items\"][r][\"cve\"][\"CVE_data_meta\"][\"ASSIGNER\"])"
   ]
  },
  {
   "cell_type": "markdown",
   "metadata": {},
   "source": [
    "Problemtype Infromation"
   ]
  },
  {
   "cell_type": "code",
   "execution_count": 4,
   "metadata": {},
   "outputs": [],
   "source": [
    "for r in range(cveItemsSize):\n",
    "    proDataSize = len(data[\"CVE_Items\"][r][\"cve\"][\"problemtype\"][\"problemtype_data\"])\n",
    "    for y in range(proDataSize):\n",
    "        cveArray[r].append(\"lang: \" + data[\"CVE_Items\"][r][\"cve\"][\"problemtype\"][\"problemtype_data\"][0][\"description\"][y][\"lang\"])\n",
    "        cveArray[r].append(\"value: \" + data[\"CVE_Items\"][r][\"cve\"][\"problemtype\"][\"problemtype_data\"][0][\"description\"][y][\"value\"])"
   ]
  },
  {
   "cell_type": "markdown",
   "metadata": {},
   "source": [
    "Reference Infomation"
   ]
  },
  {
   "cell_type": "code",
   "execution_count": 5,
   "metadata": {},
   "outputs": [
    {
     "name": "stdout",
     "output_type": "stream",
     "text": [
      "5\n"
     ]
    }
   ],
   "source": [
    "for r in range(cveItemsSize):\n",
    "    refDataSize = len(data[\"CVE_Items\"][r][\"cve\"][\"references\"][\"reference_data\"])\n",
    "    print(refDataSize)\n",
    "    for y in range(refDataSize):\n",
    "        cveArray[r].append(\"data: \" + data[\"CVE_Items\"][r][\"cve\"][\"references\"][\"reference_data\"][y][\"url\"])\n",
    "        cveArray[r].append(\"name: \" + data[\"CVE_Items\"][r][\"cve\"][\"references\"][\"reference_data\"][y][\"name\"])\n",
    "        cveArray[r].append(\"refsource: \" + data[\"CVE_Items\"][r][\"cve\"][\"references\"][\"reference_data\"][y][\"refsource\"])\n",
    "        cveArray[r].append(\"tags: \" + str(data[\"CVE_Items\"][r][\"cve\"][\"references\"][\"reference_data\"][y][\"tags\"]))"
   ]
  },
  {
   "cell_type": "markdown",
   "metadata": {},
   "source": [
    "Description Information"
   ]
  },
  {
   "cell_type": "code",
   "execution_count": 6,
   "metadata": {},
   "outputs": [],
   "source": [
    "for r in range(cveItemsSize):\n",
    "    desDataSize = len(data[\"CVE_Items\"][r][\"cve\"][\"description\"][\"description_data\"])\n",
    "    cveArray[r].append(desDataSize)\n",
    "    for y in range(desDataSize):\n",
    "        cveArray[r].append(\"lang: \" + data[\"CVE_Items\"][r][\"cve\"][\"description\"][\"description_data\"][y][\"lang\"])\n",
    "        cveArray[r].append(\"value: \" + data[\"CVE_Items\"][r][\"cve\"][\"description\"][\"description_data\"][y][\"value\"])"
   ]
  },
  {
   "cell_type": "markdown",
   "metadata": {},
   "source": [
    "Configuration data"
   ]
  },
  {
   "cell_type": "code",
   "execution_count": 7,
   "metadata": {},
   "outputs": [],
   "source": [
    "for r in range(cveItemsSize):\n",
    "    cveArray[r].append(\"CVE Data Version: \" + data[\"CVE_Items\"][r][\"configurations\"][\"CVE_data_version\"])"
   ]
  },
  {
   "cell_type": "markdown",
   "metadata": {},
   "source": [
    "Configuration Nodes Stream"
   ]
  },
  {
   "cell_type": "code",
   "execution_count": 8,
   "metadata": {},
   "outputs": [],
   "source": [
    "for r in range(cveItemsSize):\n",
    "    nodesDataSize = len(data[\"CVE_Items\"][r][\"configurations\"][\"nodes\"])\n",
    "    for y in range(nodesDataSize):\n",
    "        cveArray[r].append(\"Operator: \" + data[\"CVE_Items\"][r][\"configurations\"][\"nodes\"][y][\"operator\"])\n",
    "        cpeMatchSize = len(data[\"CVE_Items\"][r][\"configurations\"][\"nodes\"][y][\"cpe_match\"])\n",
    "        for z in range(cpeMatchSize):\n",
    "            cveArray[r].append(\"Vulnerable: \" + str(data[\"CVE_Items\"][r][\"configurations\"][\"nodes\"][y][\"cpe_match\"][z][\"vulnerable\"]))\n",
    "            cveArray[r].append(\"cpe23uri: \" + data[\"CVE_Items\"][r][\"configurations\"][\"nodes\"][y][\"cpe_match\"][z][\"cpe23Uri\"])\n",
    "            #cveArray[r].append(\"versionStartIncluding: \" + data[\"CVE_Items\"][r][\"configurations\"][\"nodes\"][y][\"cpe_match\"][z][\"versionStartIncluding\"])\n",
    "            #cveArray[r].append(\"versionEndExcluding: \" + data[\"CVE_Items\"][r][\"configurations\"][\"nodes\"][y][\"cpe_match\"][z][\"versionEndExcluding\"])"
   ]
  },
  {
   "cell_type": "markdown",
   "metadata": {},
   "source": [
    "Impact cvssV3"
   ]
  },
  {
   "cell_type": "code",
   "execution_count": 9,
   "metadata": {
    "scrolled": true
   },
   "outputs": [
    {
     "ename": "KeyError",
     "evalue": "'baseMetricV3'",
     "output_type": "error",
     "traceback": [
      "\u001b[1;31m---------------------------------------------------------------------------\u001b[0m",
      "\u001b[1;31mKeyError\u001b[0m                                  Traceback (most recent call last)",
      "\u001b[1;32m<ipython-input-9-ec791dc6632d>\u001b[0m in \u001b[0;36m<module>\u001b[1;34m\u001b[0m\n\u001b[0;32m      1\u001b[0m \u001b[1;32mfor\u001b[0m \u001b[0mr\u001b[0m \u001b[1;32min\u001b[0m \u001b[0mrange\u001b[0m\u001b[1;33m(\u001b[0m\u001b[0mcveItemsSize\u001b[0m\u001b[1;33m)\u001b[0m\u001b[1;33m:\u001b[0m\u001b[1;33m\u001b[0m\u001b[1;33m\u001b[0m\u001b[0m\n\u001b[0;32m      2\u001b[0m     \u001b[1;32mtry\u001b[0m\u001b[1;33m:\u001b[0m\u001b[1;33m\u001b[0m\u001b[1;33m\u001b[0m\u001b[0m\n\u001b[1;32m----> 3\u001b[1;33m         \u001b[0mcveArray\u001b[0m\u001b[1;33m[\u001b[0m\u001b[0mr\u001b[0m\u001b[1;33m]\u001b[0m\u001b[1;33m.\u001b[0m\u001b[0mappend\u001b[0m\u001b[1;33m(\u001b[0m\u001b[1;34m\"version: \"\u001b[0m \u001b[1;33m+\u001b[0m \u001b[0mstr\u001b[0m\u001b[1;33m(\u001b[0m\u001b[0mdata\u001b[0m\u001b[1;33m[\u001b[0m\u001b[1;34m\"CVE_Items\"\u001b[0m\u001b[1;33m]\u001b[0m\u001b[1;33m[\u001b[0m\u001b[0mr\u001b[0m\u001b[1;33m]\u001b[0m\u001b[1;33m[\u001b[0m\u001b[1;34m\"impact\"\u001b[0m\u001b[1;33m]\u001b[0m\u001b[1;33m[\u001b[0m\u001b[1;34m\"baseMetricV3\"\u001b[0m\u001b[1;33m]\u001b[0m\u001b[1;33m[\u001b[0m\u001b[1;34m\"cvssV3\"\u001b[0m\u001b[1;33m]\u001b[0m\u001b[1;33m[\u001b[0m\u001b[1;34m\"version\"\u001b[0m\u001b[1;33m]\u001b[0m\u001b[1;33m)\u001b[0m\u001b[1;33m)\u001b[0m\u001b[1;33m\u001b[0m\u001b[1;33m\u001b[0m\u001b[0m\n\u001b[0m\u001b[0;32m      4\u001b[0m         \u001b[0mcveArray\u001b[0m\u001b[1;33m[\u001b[0m\u001b[0mr\u001b[0m\u001b[1;33m]\u001b[0m\u001b[1;33m.\u001b[0m\u001b[0mappend\u001b[0m\u001b[1;33m(\u001b[0m\u001b[1;34m\"vectorString: \"\u001b[0m \u001b[1;33m+\u001b[0m \u001b[0mdata\u001b[0m\u001b[1;33m[\u001b[0m\u001b[1;34m\"CVE_Items\"\u001b[0m\u001b[1;33m]\u001b[0m\u001b[1;33m[\u001b[0m\u001b[0mr\u001b[0m\u001b[1;33m]\u001b[0m\u001b[1;33m[\u001b[0m\u001b[1;34m\"impact\"\u001b[0m\u001b[1;33m]\u001b[0m\u001b[1;33m[\u001b[0m\u001b[1;34m\"baseMetricV3\"\u001b[0m\u001b[1;33m]\u001b[0m\u001b[1;33m[\u001b[0m\u001b[1;34m\"cvssV3\"\u001b[0m\u001b[1;33m]\u001b[0m\u001b[1;33m[\u001b[0m\u001b[1;34m\"vectorString\"\u001b[0m\u001b[1;33m]\u001b[0m\u001b[1;33m)\u001b[0m\u001b[1;33m\u001b[0m\u001b[1;33m\u001b[0m\u001b[0m\n\u001b[0;32m      5\u001b[0m         \u001b[0mcveArrayrray\u001b[0m\u001b[1;33m[\u001b[0m\u001b[0mr\u001b[0m\u001b[1;33m]\u001b[0m\u001b[1;33m.\u001b[0m\u001b[0mappend\u001b[0m\u001b[1;33m(\u001b[0m\u001b[1;34m\"attackVector: \"\u001b[0m \u001b[1;33m+\u001b[0m \u001b[0mdata\u001b[0m\u001b[1;33m[\u001b[0m\u001b[1;34m\"CVE_Items\"\u001b[0m\u001b[1;33m]\u001b[0m\u001b[1;33m[\u001b[0m\u001b[0mr\u001b[0m\u001b[1;33m]\u001b[0m\u001b[1;33m[\u001b[0m\u001b[1;34m\"impact\"\u001b[0m\u001b[1;33m]\u001b[0m\u001b[1;33m[\u001b[0m\u001b[1;34m\"baseMetricV3\"\u001b[0m\u001b[1;33m]\u001b[0m\u001b[1;33m[\u001b[0m\u001b[1;34m\"cvssV3\"\u001b[0m\u001b[1;33m]\u001b[0m\u001b[1;33m[\u001b[0m\u001b[1;34m\"attackVector\"\u001b[0m\u001b[1;33m]\u001b[0m\u001b[1;33m)\u001b[0m\u001b[1;33m\u001b[0m\u001b[1;33m\u001b[0m\u001b[0m\n",
      "\u001b[1;31mKeyError\u001b[0m: 'baseMetricV3'"
     ]
    }
   ],
   "source": [
    "for r in range(cveItemsSize):\n",
    "    try:\n",
    "        cveArray[r].append(\"version: \" + str(data[\"CVE_Items\"][r][\"impact\"][\"baseMetricV3\"][\"cvssV3\"][\"version\"]))\n",
    "        cveArray[r].append(\"vectorString: \" + data[\"CVE_Items\"][r][\"impact\"][\"baseMetricV3\"][\"cvssV3\"][\"vectorString\"])\n",
    "        cveArrayrray[r].append(\"attackVector: \" + data[\"CVE_Items\"][r][\"impact\"][\"baseMetricV3\"][\"cvssV3\"][\"attackVector\"])\n",
    "        cveArray[r].append(\"attackComplexity: \" + data[\"CVE_Items\"][r][\"impact\"][\"baseMetricV3\"][\"cvssV3\"][\"attackComplexity\"])\n",
    "        cveArray[r].append(\"privilegesRequired: \" + data[\"CVE_Items\"][r][\"impact\"][\"baseMetricV3\"][\"cvssV3\"][\"privilegesRequired\"])\n",
    "        cveArray[r].append(\"userInteraction: \" + data[\"CVE_Items\"][r][\"impact\"][\"baseMetricV3\"][\"cvssV3\"][\"userInteraction\"])\n",
    "        cveArray[r].append(\"scope: \" + data[\"CVE_Items\"][r][\"impact\"][\"baseMetricV3\"][\"cvssV3\"][\"scope\"])\n",
    "        cveArray[r].append(\"confidentialityImpact: \" + data[\"CVE_Items\"][r][\"impact\"][\"baseMetricV3\"][\"cvssV3\"][\"confidentialityImpact\"])\n",
    "        cveArray[r].append(\"integrityImpact: \" + data[\"CVE_Items\"][r][\"impact\"][\"baseMetricV3\"][\"cvssV3\"][\"integrityImpact\"])\n",
    "        cveArray[r].append(\"availabilityImpact: \" + data[\"CVE_Items\"][r][\"impact\"][\"baseMetricV3\"][\"cvssV3\"][\"availabilityImpact\"])\n",
    "        cveArray[r].append(\"baseScore: \" + str(data[\"CVE_Items\"][r][\"impact\"][\"baseMetricV3\"][\"cvssV3\"][\"baseScore\"]))\n",
    "        cveArray[r].append(\"baseSeverity: \" + data[\"CVE_Items\"][r][\"impact\"][\"baseMetricV3\"][\"cvssV3\"][\"baseSeverity\"])\n",
    "    \n",
    "        cveArray[r].append(\"exploitabilityScore: \" + str(data[\"CVE_Items\"][r][\"impact\"][\"baseMetricV3\"][\"exploitabilityScore\"]))\n",
    "        cveArray[r].append(\"impactScore: \" + str(data[\"CVE_Items\"][r][\"impact\"][\"baseMetricV3\"][\"impactScore\"]))\n",
    "    except IndexError:\n",
    "        print(\"error\")"
   ]
  },
  {
   "cell_type": "markdown",
   "metadata": {},
   "source": [
    "Impact cvssV2"
   ]
  },
  {
   "cell_type": "code",
   "execution_count": 10,
   "metadata": {
    "scrolled": true
   },
   "outputs": [
    {
     "ename": "KeyError",
     "evalue": "'acInsufInfo'",
     "output_type": "error",
     "traceback": [
      "\u001b[1;31m---------------------------------------------------------------------------\u001b[0m",
      "\u001b[1;31mKeyError\u001b[0m                                  Traceback (most recent call last)",
      "\u001b[1;32m<ipython-input-10-1aadcdcef490>\u001b[0m in \u001b[0;36m<module>\u001b[1;34m\u001b[0m\n\u001b[0;32m     13\u001b[0m     \u001b[0mcveArray\u001b[0m\u001b[1;33m[\u001b[0m\u001b[0mr\u001b[0m\u001b[1;33m]\u001b[0m\u001b[1;33m.\u001b[0m\u001b[0mappend\u001b[0m\u001b[1;33m(\u001b[0m\u001b[1;34m\"exploitabilityScore: \"\u001b[0m \u001b[1;33m+\u001b[0m \u001b[0mstr\u001b[0m\u001b[1;33m(\u001b[0m\u001b[0mdata\u001b[0m\u001b[1;33m[\u001b[0m\u001b[1;34m\"CVE_Items\"\u001b[0m\u001b[1;33m]\u001b[0m\u001b[1;33m[\u001b[0m\u001b[0mr\u001b[0m\u001b[1;33m]\u001b[0m\u001b[1;33m[\u001b[0m\u001b[1;34m\"impact\"\u001b[0m\u001b[1;33m]\u001b[0m\u001b[1;33m[\u001b[0m\u001b[1;34m\"baseMetricV2\"\u001b[0m\u001b[1;33m]\u001b[0m\u001b[1;33m[\u001b[0m\u001b[1;34m\"exploitabilityScore\"\u001b[0m\u001b[1;33m]\u001b[0m\u001b[1;33m)\u001b[0m\u001b[1;33m)\u001b[0m\u001b[1;33m\u001b[0m\u001b[1;33m\u001b[0m\u001b[0m\n\u001b[0;32m     14\u001b[0m     \u001b[0mcveArray\u001b[0m\u001b[1;33m[\u001b[0m\u001b[0mr\u001b[0m\u001b[1;33m]\u001b[0m\u001b[1;33m.\u001b[0m\u001b[0mappend\u001b[0m\u001b[1;33m(\u001b[0m\u001b[1;34m\"impactScore: \"\u001b[0m \u001b[1;33m+\u001b[0m \u001b[0mstr\u001b[0m\u001b[1;33m(\u001b[0m\u001b[0mdata\u001b[0m\u001b[1;33m[\u001b[0m\u001b[1;34m\"CVE_Items\"\u001b[0m\u001b[1;33m]\u001b[0m\u001b[1;33m[\u001b[0m\u001b[0mr\u001b[0m\u001b[1;33m]\u001b[0m\u001b[1;33m[\u001b[0m\u001b[1;34m\"impact\"\u001b[0m\u001b[1;33m]\u001b[0m\u001b[1;33m[\u001b[0m\u001b[1;34m\"baseMetricV2\"\u001b[0m\u001b[1;33m]\u001b[0m\u001b[1;33m[\u001b[0m\u001b[1;34m\"impactScore\"\u001b[0m\u001b[1;33m]\u001b[0m\u001b[1;33m)\u001b[0m\u001b[1;33m)\u001b[0m\u001b[1;33m\u001b[0m\u001b[1;33m\u001b[0m\u001b[0m\n\u001b[1;32m---> 15\u001b[1;33m     \u001b[0mcveArray\u001b[0m\u001b[1;33m[\u001b[0m\u001b[0mr\u001b[0m\u001b[1;33m]\u001b[0m\u001b[1;33m.\u001b[0m\u001b[0mappend\u001b[0m\u001b[1;33m(\u001b[0m\u001b[1;34m\"acInsufInfo: \"\u001b[0m \u001b[1;33m+\u001b[0m \u001b[0mstr\u001b[0m\u001b[1;33m(\u001b[0m\u001b[0mdata\u001b[0m\u001b[1;33m[\u001b[0m\u001b[1;34m\"CVE_Items\"\u001b[0m\u001b[1;33m]\u001b[0m\u001b[1;33m[\u001b[0m\u001b[0mr\u001b[0m\u001b[1;33m]\u001b[0m\u001b[1;33m[\u001b[0m\u001b[1;34m\"impact\"\u001b[0m\u001b[1;33m]\u001b[0m\u001b[1;33m[\u001b[0m\u001b[1;34m\"baseMetricV2\"\u001b[0m\u001b[1;33m]\u001b[0m\u001b[1;33m[\u001b[0m\u001b[1;34m\"acInsufInfo\"\u001b[0m\u001b[1;33m]\u001b[0m\u001b[1;33m)\u001b[0m\u001b[1;33m)\u001b[0m\u001b[1;33m\u001b[0m\u001b[1;33m\u001b[0m\u001b[0m\n\u001b[0m\u001b[0;32m     16\u001b[0m     \u001b[0mcveArray\u001b[0m\u001b[1;33m[\u001b[0m\u001b[0mr\u001b[0m\u001b[1;33m]\u001b[0m\u001b[1;33m.\u001b[0m\u001b[0mappend\u001b[0m\u001b[1;33m(\u001b[0m\u001b[1;34m\"obtainAllPrivilege: \"\u001b[0m \u001b[1;33m+\u001b[0m \u001b[0mstr\u001b[0m\u001b[1;33m(\u001b[0m\u001b[0mdata\u001b[0m\u001b[1;33m[\u001b[0m\u001b[1;34m\"CVE_Items\"\u001b[0m\u001b[1;33m]\u001b[0m\u001b[1;33m[\u001b[0m\u001b[0mr\u001b[0m\u001b[1;33m]\u001b[0m\u001b[1;33m[\u001b[0m\u001b[1;34m\"impact\"\u001b[0m\u001b[1;33m]\u001b[0m\u001b[1;33m[\u001b[0m\u001b[1;34m\"baseMetricV2\"\u001b[0m\u001b[1;33m]\u001b[0m\u001b[1;33m[\u001b[0m\u001b[1;34m\"obtainAllPrivilege\"\u001b[0m\u001b[1;33m]\u001b[0m\u001b[1;33m)\u001b[0m\u001b[1;33m)\u001b[0m\u001b[1;33m\u001b[0m\u001b[1;33m\u001b[0m\u001b[0m\n\u001b[0;32m     17\u001b[0m     \u001b[0mcveArray\u001b[0m\u001b[1;33m[\u001b[0m\u001b[0mr\u001b[0m\u001b[1;33m]\u001b[0m\u001b[1;33m.\u001b[0m\u001b[0mappend\u001b[0m\u001b[1;33m(\u001b[0m\u001b[1;34m\"obtainUserPrivilege: \"\u001b[0m \u001b[1;33m+\u001b[0m \u001b[0mstr\u001b[0m\u001b[1;33m(\u001b[0m\u001b[0mdata\u001b[0m\u001b[1;33m[\u001b[0m\u001b[1;34m\"CVE_Items\"\u001b[0m\u001b[1;33m]\u001b[0m\u001b[1;33m[\u001b[0m\u001b[0mr\u001b[0m\u001b[1;33m]\u001b[0m\u001b[1;33m[\u001b[0m\u001b[1;34m\"impact\"\u001b[0m\u001b[1;33m]\u001b[0m\u001b[1;33m[\u001b[0m\u001b[1;34m\"baseMetricV2\"\u001b[0m\u001b[1;33m]\u001b[0m\u001b[1;33m[\u001b[0m\u001b[1;34m\"obtainUserPrivilege\"\u001b[0m\u001b[1;33m]\u001b[0m\u001b[1;33m)\u001b[0m\u001b[1;33m)\u001b[0m\u001b[1;33m\u001b[0m\u001b[1;33m\u001b[0m\u001b[0m\n",
      "\u001b[1;31mKeyError\u001b[0m: 'acInsufInfo'"
     ]
    }
   ],
   "source": [
    "for r in range(cveItemsSize):\n",
    "    cveArray[r].append(\"version: \" + data[\"CVE_Items\"][r][\"impact\"][\"baseMetricV2\"][\"cvssV2\"][\"version\"])\n",
    "    cveArray[r].append(\"vectorString: \" + data[\"CVE_Items\"][r][\"impact\"][\"baseMetricV2\"][\"cvssV2\"][\"vectorString\"])\n",
    "    cveArray[r].append(\"accessVector: \" + data[\"CVE_Items\"][r][\"impact\"][\"baseMetricV2\"][\"cvssV2\"][\"accessVector\"])\n",
    "    cveArray[r].append(\"accessComplexity: \" + data[\"CVE_Items\"][r][\"impact\"][\"baseMetricV2\"][\"cvssV2\"][\"accessComplexity\"])\n",
    "    cveArray[r].append(\"authentication: \" + data[\"CVE_Items\"][r][\"impact\"][\"baseMetricV2\"][\"cvssV2\"][\"authentication\"])\n",
    "    cveArray[r].append(\"confidentialityImpact: \" + data[\"CVE_Items\"][r][\"impact\"][\"baseMetricV2\"][\"cvssV2\"][\"confidentialityImpact\"])\n",
    "    cveArray[r].append(\"integrityImpact: \" + data[\"CVE_Items\"][r][\"impact\"][\"baseMetricV2\"][\"cvssV2\"][\"integrityImpact\"])\n",
    "    cveArray[r].append(\"availabilityImpact: \" + data[\"CVE_Items\"][r][\"impact\"][\"baseMetricV2\"][\"cvssV2\"][\"availabilityImpact\"])\n",
    "    cveArray[r].append(\"baseScore: \" + str(data[\"CVE_Items\"][r][\"impact\"][\"baseMetricV2\"][\"cvssV2\"][\"baseScore\"]))\n",
    "    \n",
    "    cveArray[r].append(\"severity: \" + str(data[\"CVE_Items\"][r][\"impact\"][\"baseMetricV2\"][\"severity\"]))\n",
    "    cveArray[r].append(\"exploitabilityScore: \" + str(data[\"CVE_Items\"][r][\"impact\"][\"baseMetricV2\"][\"exploitabilityScore\"]))\n",
    "    cveArray[r].append(\"impactScore: \" + str(data[\"CVE_Items\"][r][\"impact\"][\"baseMetricV2\"][\"impactScore\"]))\n",
    "    cveArray[r].append(\"acInsufInfo: \" + str(data[\"CVE_Items\"][r][\"impact\"][\"baseMetricV2\"][\"acInsufInfo\"]))\n",
    "    cveArray[r].append(\"obtainAllPrivilege: \" + str(data[\"CVE_Items\"][r][\"impact\"][\"baseMetricV2\"][\"obtainAllPrivilege\"]))\n",
    "    cveArray[r].append(\"obtainUserPrivilege: \" + str(data[\"CVE_Items\"][r][\"impact\"][\"baseMetricV2\"][\"obtainUserPrivilege\"]))\n",
    "    cveArray[r].append(\"obtainOtherPrivilege: \" + str(data[\"CVE_Items\"][r][\"impact\"][\"baseMetricV2\"][\"obtainOtherPrivilege\"]))\n",
    "    cveArray[r].append(\"userInteractionRequired: \" + str(data[\"CVE_Items\"][r][\"impact\"][\"baseMetricV2\"][\"userInteractionRequired\"]))"
   ]
  },
  {
   "cell_type": "markdown",
   "metadata": {},
   "source": [
    "CVE Items info"
   ]
  },
  {
   "cell_type": "code",
   "execution_count": 11,
   "metadata": {},
   "outputs": [],
   "source": [
    "for r in range(cveItemsSize):\n",
    "    cveArray[r].append(\"publishedDate: \" + data[\"CVE_Items\"][r][\"publishedDate\"])\n",
    "    cveArray[r].append(\"lastModifiedDate: \" + data[\"CVE_Items\"][r][\"lastModifiedDate\"])"
   ]
  },
  {
   "cell_type": "code",
   "execution_count": 12,
   "metadata": {},
   "outputs": [
    {
     "name": "stdout",
     "output_type": "stream",
     "text": [
      "CVE Data Type: CVE\n",
      "CVE Data Format: MITRE\n",
      "CVE Data Version: 4.0\n",
      "ID: CVE-2005-0249\n",
      "CVE Data Version: cve@mitre.org\n",
      "lang: en\n",
      "value: NVD-CWE-Other\n",
      "data: http://securitytracker.com/id?1013133\n",
      "name: 1013133\n",
      "refsource: SECTRACK\n",
      "tags: ['Third Party Advisory', 'VDB Entry']\n",
      "data: http://www.kb.cert.org/vuls/id/107822\n",
      "name: VU#107822\n",
      "refsource: CERT-VN\n",
      "tags: ['Patch', 'Third Party Advisory', 'US Government Resource']\n",
      "data: http://www.symantec.com/avcenter/security/Content/2005.02.08.html\n",
      "name: http://www.symantec.com/avcenter/security/Content/2005.02.08.html\n",
      "refsource: CONFIRM\n",
      "tags: ['Patch', 'Vendor Advisory']\n",
      "data: http://xforce.iss.net/xforce/alerts/id/187\n",
      "name: 20050208 Symantec AntiVirus Library Heap Overflow\n",
      "refsource: ISS\n",
      "tags: ['Patch', 'Vendor Advisory']\n",
      "data: https://exchange.xforce.ibmcloud.com/vulnerabilities/18869\n",
      "name: upx-engine-gain-control(18869)\n",
      "refsource: XF\n",
      "tags: ['VDB Entry']\n",
      "1\n",
      "lang: en\n",
      "value: Heap-based buffer overflow in the DEC2EXE module for Symantec AntiVirus Library allows remote attackers to execute arbitrary code via a UPX compressed file containing a negative virtual offset to a crafted PE header.\n",
      "CVE Data Version: 4.0\n",
      "Operator: OR\n",
      "Vulnerable: True\n",
      "cpe23uri: cpe:2.3:a:symantec:antivirus_scan_engine:*:*:*:*:*:*:*:*\n",
      "Vulnerable: True\n",
      "cpe23uri: cpe:2.3:a:symantec:brightmail_antispam:4.0:*:*:*:*:*:*:*\n",
      "Vulnerable: True\n",
      "cpe23uri: cpe:2.3:a:symantec:brightmail_antispam:5.5:*:*:*:*:*:*:*\n",
      "Vulnerable: True\n",
      "cpe23uri: cpe:2.3:a:symantec:client_security:1.0.1_build_8.01.434:mr3:*:*:*:*:*:*\n",
      "Vulnerable: True\n",
      "cpe23uri: cpe:2.3:a:symantec:client_security:1.0.1_build_8.01.437:*:*:*:*:*:*:*\n",
      "Vulnerable: True\n",
      "cpe23uri: cpe:2.3:a:symantec:client_security:1.0.1_build_8.01.446:mr4:*:*:*:*:*:*\n",
      "Vulnerable: True\n",
      "cpe23uri: cpe:2.3:a:symantec:client_security:1.0.1_build_8.01.457:mr5:*:*:*:*:*:*\n",
      "Vulnerable: True\n",
      "cpe23uri: cpe:2.3:a:symantec:client_security:1.0.1_build_8.01.460:mr6:*:*:*:*:*:*\n",
      "Vulnerable: True\n",
      "cpe23uri: cpe:2.3:a:symantec:client_security:1.0.1_build_8.01.464:mr7:*:*:*:*:*:*\n",
      "Vulnerable: True\n",
      "cpe23uri: cpe:2.3:a:symantec:client_security:1.0.1_build_8.01.471:mr8:*:*:*:*:*:*\n",
      "Vulnerable: True\n",
      "cpe23uri: cpe:2.3:a:symantec:client_security:1.1.1_mr1_build_8.1.1.314a:*:*:*:*:*:*:*\n",
      "Vulnerable: True\n",
      "cpe23uri: cpe:2.3:a:symantec:client_security:1.1.1_mr2_build_8.1.1.319:*:*:*:*:*:*:*\n",
      "Vulnerable: True\n",
      "cpe23uri: cpe:2.3:a:symantec:client_security:1.1.1_mr3_build_8.1.1.323:*:*:*:*:*:*:*\n",
      "Vulnerable: True\n",
      "cpe23uri: cpe:2.3:a:symantec:client_security:1.1.1_mr4_build_8.1.1.329:*:*:*:*:*:*:*\n",
      "Vulnerable: True\n",
      "cpe23uri: cpe:2.3:a:symantec:client_security:1.1.1_mr5_build_8.1.1.336:*:*:*:*:*:*:*\n",
      "Vulnerable: True\n",
      "cpe23uri: cpe:2.3:a:symantec:gateway_security:1.0:*:*:*:*:*:*:*\n",
      "Vulnerable: True\n",
      "cpe23uri: cpe:2.3:a:symantec:gateway_security:2.0:*:*:*:*:*:*:*\n",
      "Vulnerable: True\n",
      "cpe23uri: cpe:2.3:a:symantec:gateway_security:2.0.1:*:*:*:*:*:*:*\n",
      "Vulnerable: True\n",
      "cpe23uri: cpe:2.3:a:symantec:mail_security:4.0:*:domino:*:*:*:*:*\n",
      "Vulnerable: True\n",
      "cpe23uri: cpe:2.3:a:symantec:mail_security:4.1:build_458:exchange:*:*:*:*:*\n",
      "Vulnerable: True\n",
      "cpe23uri: cpe:2.3:a:symantec:mail_security:4.1:build_459:exchange:*:*:*:*:*\n",
      "Vulnerable: True\n",
      "cpe23uri: cpe:2.3:a:symantec:mail_security:4.1:build_461:exchange:*:*:*:*:*\n",
      "Vulnerable: True\n",
      "cpe23uri: cpe:2.3:a:symantec:mail_security:4.5_build_719:*:exchange:*:*:*:*:*\n",
      "Vulnerable: True\n",
      "cpe23uri: cpe:2.3:a:symantec:norton_antivirus:2.18_build_83:*:exchange:*:*:*:*:*\n",
      "Vulnerable: True\n",
      "cpe23uri: cpe:2.3:a:symantec:norton_antivirus:8.1.1.319:*:corporate:*:*:*:*:*\n",
      "Vulnerable: True\n",
      "cpe23uri: cpe:2.3:a:symantec:norton_antivirus:8.1.1.323:*:corporate:*:*:*:*:*\n",
      "Vulnerable: True\n",
      "cpe23uri: cpe:2.3:a:symantec:norton_antivirus:8.1.1.329:*:corporate:*:*:*:*:*\n",
      "Vulnerable: True\n",
      "cpe23uri: cpe:2.3:a:symantec:norton_antivirus:8.1.1_build8.1.1.314a:*:corporate:*:*:*:*:*\n",
      "Vulnerable: True\n",
      "cpe23uri: cpe:2.3:a:symantec:norton_antivirus:8.01.434:*:corporate:*:*:*:*:*\n",
      "Vulnerable: True\n",
      "cpe23uri: cpe:2.3:a:symantec:norton_antivirus:8.01.437:*:corporate:*:*:*:*:*\n",
      "Vulnerable: True\n",
      "cpe23uri: cpe:2.3:a:symantec:norton_antivirus:8.01.446:*:corporate:*:*:*:*:*\n",
      "Vulnerable: True\n",
      "cpe23uri: cpe:2.3:a:symantec:norton_antivirus:8.01.457:*:corporate:*:*:*:*:*\n",
      "Vulnerable: True\n",
      "cpe23uri: cpe:2.3:a:symantec:norton_antivirus:8.01.460:*:corporate:*:*:*:*:*\n",
      "Vulnerable: True\n",
      "cpe23uri: cpe:2.3:a:symantec:norton_antivirus:8.01.464:*:corporate:*:*:*:*:*\n",
      "Vulnerable: True\n",
      "cpe23uri: cpe:2.3:a:symantec:norton_antivirus:8.01.471:*:corporate:*:*:*:*:*\n",
      "Vulnerable: True\n",
      "cpe23uri: cpe:2.3:a:symantec:norton_antivirus:9.0:*:macintosh_corporate:*:*:*:*:*\n",
      "Vulnerable: True\n",
      "cpe23uri: cpe:2.3:a:symantec:norton_antivirus:2004:*:windows:*:*:*:*:*\n",
      "Vulnerable: True\n",
      "cpe23uri: cpe:2.3:a:symantec:norton_internet_security:2004:*:professional:*:*:*:*:*\n",
      "Vulnerable: True\n",
      "cpe23uri: cpe:2.3:a:symantec:norton_system_works:2004:*:windows:*:*:*:*:*\n",
      "Vulnerable: True\n",
      "cpe23uri: cpe:2.3:a:symantec:sav_filter_domino_nt_ports:build3.0.5:*:aix:*:*:*:*:*\n",
      "Vulnerable: True\n",
      "cpe23uri: cpe:2.3:a:symantec:sav_filter_domino_nt_ports:build3.0.5:*:os_400:*:*:*:*:*\n",
      "Vulnerable: True\n",
      "cpe23uri: cpe:2.3:a:symantec:sav_filter_for_domino_nt:3.1.1:*:*:*:*:*:*:*\n",
      "Vulnerable: True\n",
      "cpe23uri: cpe:2.3:a:symantec:web_security:3.01.59:*:*:*:*:*:*:*\n",
      "Vulnerable: True\n",
      "cpe23uri: cpe:2.3:a:symantec:web_security:3.01.60:*:*:*:*:*:*:*\n",
      "Vulnerable: True\n",
      "cpe23uri: cpe:2.3:a:symantec:web_security:3.01.61:*:*:*:*:*:*:*\n",
      "Vulnerable: True\n",
      "cpe23uri: cpe:2.3:a:symantec:web_security:3.01.62:*:*:*:*:*:*:*\n",
      "Vulnerable: True\n",
      "cpe23uri: cpe:2.3:a:symantec:web_security:3.01.63:*:*:*:*:*:*:*\n",
      "Vulnerable: True\n",
      "cpe23uri: cpe:2.3:a:symantec:web_security:3.01.67:*:*:*:*:*:*:*\n",
      "Vulnerable: True\n",
      "cpe23uri: cpe:2.3:a:symantec:web_security:3.01.68:*:*:*:*:*:*:*\n",
      "version: 2.0\n",
      "vectorString: AV:N/AC:L/Au:N/C:P/I:P/A:P\n",
      "accessVector: NETWORK\n",
      "accessComplexity: LOW\n",
      "authentication: NONE\n",
      "confidentialityImpact: PARTIAL\n",
      "integrityImpact: PARTIAL\n",
      "availabilityImpact: PARTIAL\n",
      "baseScore: 7.5\n",
      "severity: HIGH\n",
      "exploitabilityScore: 10.0\n",
      "impactScore: 6.4\n",
      "publishedDate: 2005-02-08T05:00Z\n",
      "lastModifiedDate: 2019-09-20T13:24Z\n"
     ]
    }
   ],
   "source": [
    "for r in range(len(cveArray[0])): \n",
    "    print(str(cveArray[0][r])) "
   ]
  },
  {
   "cell_type": "code",
   "execution_count": null,
   "metadata": {},
   "outputs": [],
   "source": []
  }
 ],
 "metadata": {
  "kernelspec": {
   "display_name": "Python 3",
   "language": "python",
   "name": "python3"
  },
  "language_info": {
   "codemirror_mode": {
    "name": "ipython",
    "version": 3
   },
   "file_extension": ".py",
   "mimetype": "text/x-python",
   "name": "python",
   "nbconvert_exporter": "python",
   "pygments_lexer": "ipython3",
   "version": "3.7.3"
  }
 },
 "nbformat": 4,
 "nbformat_minor": 2
}
