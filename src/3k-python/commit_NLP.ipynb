{
 "cells": [
  {
   "cell_type": "markdown",
   "metadata": {},
   "source": [
    "# Understanding commit messages\n",
    "### Using NLP Classification and Sentement analysis\n",
    "- The goal is to gain insight to commit messages. More detail is explained in the specific sections below.\n"
   ]
  },
  {
   "cell_type": "code",
   "execution_count": 1,
   "metadata": {},
   "outputs": [],
   "source": [
    "import numpy as np\n",
    "import matplotlib\n",
    "import matplotlib.pyplot as plt\n",
    "import pandas as pd\n",
    "import nltk\n",
    "from scipy import stats\n",
    "from scipy.stats import norm\n",
    "import re\n",
    "from nltk.corpus import stopwords\n",
    "from sklearn.feature_extraction.text import TfidfVectorizer\n",
    "from sklearn.model_selection import train_test_split\n",
    "from sklearn.ensemble import RandomForestClassifier\n",
    "from sklearn.metrics import classification_report, confusion_matrix, accuracy_score\n",
    "\n",
    "import warnings\n",
    "warnings.filterwarnings('ignore')\n",
    "\n",
    "# nltk.download('stopwords') # Download stopwords\n",
    "plt.rcParams[\"figure.figsize\"] = [13,6]"
   ]
  },
  {
   "cell_type": "markdown",
   "metadata": {},
   "source": [
    "#### Defining files paths and headers of release and revision csv files."
   ]
  },
  {
   "cell_type": "code",
   "execution_count": 2,
   "metadata": {},
   "outputs": [],
   "source": [
    "release_header = ['id', 'target', 'date', 'date_offset', 'name', 'comment', 'author']\n",
    "revision_header = ['id', 'date', 'date_offset', 'committer_date', 'committer_date_offset', 'type', 'directory', 'message', 'author', 'committer']\n",
    "# Path to release.csv, and whether to select uncompressed or ocmpressed version\n",
    "revision_path = 'D:/data/open_source/revision.csv.gz'\n",
    "release_path = 'D:/data/open_source/release.csv.gz'"
   ]
  },
  {
   "cell_type": "code",
   "execution_count": 3,
   "metadata": {},
   "outputs": [],
   "source": [
    "def hex_str(str):\n",
    "    return bytes.fromhex((str).replace('\\\\x','')).decode('utf-8')\n",
    "\n",
    "def msg_str(msg):\n",
    "    return bytes.fromhex(msg[2:]).decode(encoding='ISO-8859-1')\n",
    "\n",
    "def date_str(str):\n",
    "    return pd.to_datetime(str, format='%Y-%m-%dT%H:%M:%S.000Z')\n"
   ]
  },
  {
   "cell_type": "code",
   "execution_count": 4,
   "metadata": {},
   "outputs": [],
   "source": [
    "def clean_commit_msg(msg):\n",
    "    return re.sub('[^A-Za-z0-9 ]+', '', msg)\n",
    "def clean_commit_msgs(msgs):\n",
    "    return msgs.map(clean_commit_msg)"
   ]
  },
  {
   "cell_type": "markdown",
   "metadata": {},
   "source": [
    "## Release Commit messages"
   ]
  },
  {
   "cell_type": "code",
   "execution_count": 5,
   "metadata": {},
   "outputs": [],
   "source": [
    "release_df = pd.read_csv(release_path, names=release_header, converters={'comment':hex_str})\n",
    "release_df = clean_commit_msgs( release_df['comment'] ).to_frame()\n",
    "release_df.rename(columns={'comment':'message'}, inplace=True)\n",
    "release_df['label'] = 'rel'"
   ]
  },
  {
   "cell_type": "markdown",
   "metadata": {},
   "source": [
    "## Revision Commit messages"
   ]
  },
  {
   "cell_type": "code",
   "execution_count": 6,
   "metadata": {},
   "outputs": [],
   "source": [
    "# read in revision csv\n",
    "revision_df = pd.read_csv(revision_path, names=revision_header, converters={'message':msg_str})\n",
    "# obtain just the message\n",
    "revision_df = revision_df[['message']]\n",
    "# clean messages\n",
    "revision_df.loc[:,['message']] = clean_commit_msgs(revision_df['message']).to_frame()\n",
    "# add 'revision' labels\n",
    "revision_df['label'] = 'rev'\n",
    "    "
   ]
  },
  {
   "cell_type": "markdown",
   "metadata": {},
   "source": [
    "###### Checking that the import worked"
   ]
  },
  {
   "cell_type": "code",
   "execution_count": 7,
   "metadata": {},
   "outputs": [
    {
     "data": {
      "text/html": [
       "<div>\n",
       "<style scoped>\n",
       "    .dataframe tbody tr th:only-of-type {\n",
       "        vertical-align: middle;\n",
       "    }\n",
       "\n",
       "    .dataframe tbody tr th {\n",
       "        vertical-align: top;\n",
       "    }\n",
       "\n",
       "    .dataframe thead th {\n",
       "        text-align: right;\n",
       "    }\n",
       "</style>\n",
       "<table border=\"1\" class=\"dataframe\">\n",
       "  <thead>\n",
       "    <tr style=\"text-align: right;\">\n",
       "      <th></th>\n",
       "      <th>message</th>\n",
       "      <th>label</th>\n",
       "    </tr>\n",
       "  </thead>\n",
       "  <tbody>\n",
       "    <tr>\n",
       "      <th>5188989</th>\n",
       "      <td>Fixes for unary and indexing operations</td>\n",
       "      <td>rev</td>\n",
       "    </tr>\n",
       "    <tr>\n",
       "      <th>5188990</th>\n",
       "      <td>Revert Update CONTRIBUTINGmdThis reverts commi...</td>\n",
       "      <td>rev</td>\n",
       "    </tr>\n",
       "    <tr>\n",
       "      <th>5188991</th>\n",
       "      <td>Improve SEO tools CSS across themesbzr revid d...</td>\n",
       "      <td>rev</td>\n",
       "    </tr>\n",
       "    <tr>\n",
       "      <th>5188992</th>\n",
       "      <td>Update CONTRIBUTINGmdFixing broken issues link</td>\n",
       "      <td>rev</td>\n",
       "    </tr>\n",
       "    <tr>\n",
       "      <th>5188993</th>\n",
       "      <td>Only run CoalesceExtSubRegs when we can expect...</td>\n",
       "      <td>rev</td>\n",
       "    </tr>\n",
       "  </tbody>\n",
       "</table>\n",
       "</div>"
      ],
      "text/plain": [
       "                                                   message label\n",
       "5188989            Fixes for unary and indexing operations   rev\n",
       "5188990  Revert Update CONTRIBUTINGmdThis reverts commi...   rev\n",
       "5188991  Improve SEO tools CSS across themesbzr revid d...   rev\n",
       "5188992     Update CONTRIBUTINGmdFixing broken issues link   rev\n",
       "5188993  Only run CoalesceExtSubRegs when we can expect...   rev"
      ]
     },
     "execution_count": 7,
     "metadata": {},
     "output_type": "execute_result"
    }
   ],
   "source": [
    "revision_df.tail()"
   ]
  },
  {
   "cell_type": "code",
   "execution_count": 8,
   "metadata": {},
   "outputs": [
    {
     "data": {
      "text/html": [
       "<div>\n",
       "<style scoped>\n",
       "    .dataframe tbody tr th:only-of-type {\n",
       "        vertical-align: middle;\n",
       "    }\n",
       "\n",
       "    .dataframe tbody tr th {\n",
       "        vertical-align: top;\n",
       "    }\n",
       "\n",
       "    .dataframe thead th {\n",
       "        text-align: right;\n",
       "    }\n",
       "</style>\n",
       "<table border=\"1\" class=\"dataframe\">\n",
       "  <thead>\n",
       "    <tr style=\"text-align: right;\">\n",
       "      <th></th>\n",
       "      <th>message</th>\n",
       "      <th>label</th>\n",
       "    </tr>\n",
       "  </thead>\n",
       "  <tbody>\n",
       "    <tr>\n",
       "      <th>10957</th>\n",
       "      <td>Release 1424</td>\n",
       "      <td>rel</td>\n",
       "    </tr>\n",
       "    <tr>\n",
       "      <th>10958</th>\n",
       "      <td>Release 340b1</td>\n",
       "      <td>rel</td>\n",
       "    </tr>\n",
       "    <tr>\n",
       "      <th>10959</th>\n",
       "      <td>Tagging 11583 release</td>\n",
       "      <td>rel</td>\n",
       "    </tr>\n",
       "    <tr>\n",
       "      <th>10960</th>\n",
       "      <td>Tagging 11614 release</td>\n",
       "      <td>rel</td>\n",
       "    </tr>\n",
       "    <tr>\n",
       "      <th>10961</th>\n",
       "      <td>AppScale 300</td>\n",
       "      <td>rel</td>\n",
       "    </tr>\n",
       "  </tbody>\n",
       "</table>\n",
       "</div>"
      ],
      "text/plain": [
       "                     message label\n",
       "10957           Release 1424   rel\n",
       "10958          Release 340b1   rel\n",
       "10959  Tagging 11583 release   rel\n",
       "10960  Tagging 11614 release   rel\n",
       "10961           AppScale 300   rel"
      ]
     },
     "execution_count": 8,
     "metadata": {},
     "output_type": "execute_result"
    }
   ],
   "source": [
    "release_df.tail()"
   ]
  },
  {
   "cell_type": "markdown",
   "metadata": {},
   "source": [
    "# Classification\n",
    "- Difference between release and revision commit messages.\n",
    "- Train NLP Classifier to distinguish between a revision and release commit message.\n",
    "- Sentement analysis between revision and release commit messages."
   ]
  },
  {
   "cell_type": "markdown",
   "metadata": {},
   "source": [
    "#### Merge release and revision to a single dataframe"
   ]
  },
  {
   "cell_type": "code",
   "execution_count": 9,
   "metadata": {},
   "outputs": [],
   "source": [
    "msgs_df = release_df.append(revision_df)"
   ]
  },
  {
   "cell_type": "code",
   "execution_count": 10,
   "metadata": {},
   "outputs": [
    {
     "data": {
      "text/html": [
       "<div>\n",
       "<style scoped>\n",
       "    .dataframe tbody tr th:only-of-type {\n",
       "        vertical-align: middle;\n",
       "    }\n",
       "\n",
       "    .dataframe tbody tr th {\n",
       "        vertical-align: top;\n",
       "    }\n",
       "\n",
       "    .dataframe thead th {\n",
       "        text-align: right;\n",
       "    }\n",
       "</style>\n",
       "<table border=\"1\" class=\"dataframe\">\n",
       "  <thead>\n",
       "    <tr style=\"text-align: right;\">\n",
       "      <th></th>\n",
       "      <th>message</th>\n",
       "      <th>label</th>\n",
       "    </tr>\n",
       "  </thead>\n",
       "  <tbody>\n",
       "    <tr>\n",
       "      <th>0</th>\n",
       "      <td>Release for February 4th 2015</td>\n",
       "      <td>rel</td>\n",
       "    </tr>\n",
       "    <tr>\n",
       "      <th>1</th>\n",
       "      <td>tag version 0291</td>\n",
       "      <td>rel</td>\n",
       "    </tr>\n",
       "    <tr>\n",
       "      <th>2</th>\n",
       "      <td>Whats new in Tornado 30Mar 29 2013Highlights T...</td>\n",
       "      <td>rel</td>\n",
       "    </tr>\n",
       "    <tr>\n",
       "      <th>3</th>\n",
       "      <td>Windows build SickBeardwin32alphabuild469</td>\n",
       "      <td>rel</td>\n",
       "    </tr>\n",
       "    <tr>\n",
       "      <th>4</th>\n",
       "      <td>Fabric 116</td>\n",
       "      <td>rel</td>\n",
       "    </tr>\n",
       "    <tr>\n",
       "      <th>...</th>\n",
       "      <td>...</td>\n",
       "      <td>...</td>\n",
       "    </tr>\n",
       "    <tr>\n",
       "      <th>5188989</th>\n",
       "      <td>Fixes for unary and indexing operations</td>\n",
       "      <td>rev</td>\n",
       "    </tr>\n",
       "    <tr>\n",
       "      <th>5188990</th>\n",
       "      <td>Revert Update CONTRIBUTINGmdThis reverts commi...</td>\n",
       "      <td>rev</td>\n",
       "    </tr>\n",
       "    <tr>\n",
       "      <th>5188991</th>\n",
       "      <td>Improve SEO tools CSS across themesbzr revid d...</td>\n",
       "      <td>rev</td>\n",
       "    </tr>\n",
       "    <tr>\n",
       "      <th>5188992</th>\n",
       "      <td>Update CONTRIBUTINGmdFixing broken issues link</td>\n",
       "      <td>rev</td>\n",
       "    </tr>\n",
       "    <tr>\n",
       "      <th>5188993</th>\n",
       "      <td>Only run CoalesceExtSubRegs when we can expect...</td>\n",
       "      <td>rev</td>\n",
       "    </tr>\n",
       "  </tbody>\n",
       "</table>\n",
       "<p>5199956 rows × 2 columns</p>\n",
       "</div>"
      ],
      "text/plain": [
       "                                                   message label\n",
       "0                            Release for February 4th 2015   rel\n",
       "1                                         tag version 0291   rel\n",
       "2        Whats new in Tornado 30Mar 29 2013Highlights T...   rel\n",
       "3                Windows build SickBeardwin32alphabuild469   rel\n",
       "4                                               Fabric 116   rel\n",
       "...                                                    ...   ...\n",
       "5188989            Fixes for unary and indexing operations   rev\n",
       "5188990  Revert Update CONTRIBUTINGmdThis reverts commi...   rev\n",
       "5188991  Improve SEO tools CSS across themesbzr revid d...   rev\n",
       "5188992     Update CONTRIBUTINGmdFixing broken issues link   rev\n",
       "5188993  Only run CoalesceExtSubRegs when we can expect...   rev\n",
       "\n",
       "[5199956 rows x 2 columns]"
      ]
     },
     "execution_count": 10,
     "metadata": {},
     "output_type": "execute_result"
    }
   ],
   "source": [
    "msgs_df"
   ]
  },
  {
   "cell_type": "markdown",
   "metadata": {},
   "source": [
    "#### Fix indexing issue"
   ]
  },
  {
   "cell_type": "code",
   "execution_count": 11,
   "metadata": {},
   "outputs": [],
   "source": [
    "msgs_df = msgs_df.reset_index().drop('index', 1)"
   ]
  },
  {
   "cell_type": "code",
   "execution_count": 12,
   "metadata": {},
   "outputs": [
    {
     "data": {
      "text/html": [
       "<div>\n",
       "<style scoped>\n",
       "    .dataframe tbody tr th:only-of-type {\n",
       "        vertical-align: middle;\n",
       "    }\n",
       "\n",
       "    .dataframe tbody tr th {\n",
       "        vertical-align: top;\n",
       "    }\n",
       "\n",
       "    .dataframe thead th {\n",
       "        text-align: right;\n",
       "    }\n",
       "</style>\n",
       "<table border=\"1\" class=\"dataframe\">\n",
       "  <thead>\n",
       "    <tr style=\"text-align: right;\">\n",
       "      <th></th>\n",
       "      <th>message</th>\n",
       "      <th>label</th>\n",
       "    </tr>\n",
       "  </thead>\n",
       "  <tbody>\n",
       "    <tr>\n",
       "      <th>0</th>\n",
       "      <td>Release for February 4th 2015</td>\n",
       "      <td>rel</td>\n",
       "    </tr>\n",
       "    <tr>\n",
       "      <th>1</th>\n",
       "      <td>tag version 0291</td>\n",
       "      <td>rel</td>\n",
       "    </tr>\n",
       "    <tr>\n",
       "      <th>2</th>\n",
       "      <td>Whats new in Tornado 30Mar 29 2013Highlights T...</td>\n",
       "      <td>rel</td>\n",
       "    </tr>\n",
       "    <tr>\n",
       "      <th>3</th>\n",
       "      <td>Windows build SickBeardwin32alphabuild469</td>\n",
       "      <td>rel</td>\n",
       "    </tr>\n",
       "    <tr>\n",
       "      <th>4</th>\n",
       "      <td>Fabric 116</td>\n",
       "      <td>rel</td>\n",
       "    </tr>\n",
       "    <tr>\n",
       "      <th>...</th>\n",
       "      <td>...</td>\n",
       "      <td>...</td>\n",
       "    </tr>\n",
       "    <tr>\n",
       "      <th>5199951</th>\n",
       "      <td>Fixes for unary and indexing operations</td>\n",
       "      <td>rev</td>\n",
       "    </tr>\n",
       "    <tr>\n",
       "      <th>5199952</th>\n",
       "      <td>Revert Update CONTRIBUTINGmdThis reverts commi...</td>\n",
       "      <td>rev</td>\n",
       "    </tr>\n",
       "    <tr>\n",
       "      <th>5199953</th>\n",
       "      <td>Improve SEO tools CSS across themesbzr revid d...</td>\n",
       "      <td>rev</td>\n",
       "    </tr>\n",
       "    <tr>\n",
       "      <th>5199954</th>\n",
       "      <td>Update CONTRIBUTINGmdFixing broken issues link</td>\n",
       "      <td>rev</td>\n",
       "    </tr>\n",
       "    <tr>\n",
       "      <th>5199955</th>\n",
       "      <td>Only run CoalesceExtSubRegs when we can expect...</td>\n",
       "      <td>rev</td>\n",
       "    </tr>\n",
       "  </tbody>\n",
       "</table>\n",
       "<p>5199956 rows × 2 columns</p>\n",
       "</div>"
      ],
      "text/plain": [
       "                                                   message label\n",
       "0                            Release for February 4th 2015   rel\n",
       "1                                         tag version 0291   rel\n",
       "2        Whats new in Tornado 30Mar 29 2013Highlights T...   rel\n",
       "3                Windows build SickBeardwin32alphabuild469   rel\n",
       "4                                               Fabric 116   rel\n",
       "...                                                    ...   ...\n",
       "5199951            Fixes for unary and indexing operations   rev\n",
       "5199952  Revert Update CONTRIBUTINGmdThis reverts commi...   rev\n",
       "5199953  Improve SEO tools CSS across themesbzr revid d...   rev\n",
       "5199954     Update CONTRIBUTINGmdFixing broken issues link   rev\n",
       "5199955  Only run CoalesceExtSubRegs when we can expect...   rev\n",
       "\n",
       "[5199956 rows x 2 columns]"
      ]
     },
     "execution_count": 12,
     "metadata": {},
     "output_type": "execute_result"
    }
   ],
   "source": [
    "msgs_df"
   ]
  },
  {
   "cell_type": "code",
   "execution_count": 13,
   "metadata": {},
   "outputs": [
    {
     "data": {
      "text/html": [
       "<div>\n",
       "<style scoped>\n",
       "    .dataframe tbody tr th:only-of-type {\n",
       "        vertical-align: middle;\n",
       "    }\n",
       "\n",
       "    .dataframe tbody tr th {\n",
       "        vertical-align: top;\n",
       "    }\n",
       "\n",
       "    .dataframe thead th {\n",
       "        text-align: right;\n",
       "    }\n",
       "</style>\n",
       "<table border=\"1\" class=\"dataframe\">\n",
       "  <thead>\n",
       "    <tr style=\"text-align: right;\">\n",
       "      <th></th>\n",
       "      <th>message</th>\n",
       "      <th>label</th>\n",
       "    </tr>\n",
       "  </thead>\n",
       "  <tbody>\n",
       "    <tr>\n",
       "      <th>0</th>\n",
       "      <td>Release for February 4th 2015</td>\n",
       "      <td>rel</td>\n",
       "    </tr>\n",
       "    <tr>\n",
       "      <th>1</th>\n",
       "      <td>tag version 0291</td>\n",
       "      <td>rel</td>\n",
       "    </tr>\n",
       "    <tr>\n",
       "      <th>2</th>\n",
       "      <td>Whats new in Tornado 30Mar 29 2013Highlights T...</td>\n",
       "      <td>rel</td>\n",
       "    </tr>\n",
       "    <tr>\n",
       "      <th>3</th>\n",
       "      <td>Windows build SickBeardwin32alphabuild469</td>\n",
       "      <td>rel</td>\n",
       "    </tr>\n",
       "    <tr>\n",
       "      <th>4</th>\n",
       "      <td>Fabric 116</td>\n",
       "      <td>rel</td>\n",
       "    </tr>\n",
       "    <tr>\n",
       "      <th>...</th>\n",
       "      <td>...</td>\n",
       "      <td>...</td>\n",
       "    </tr>\n",
       "    <tr>\n",
       "      <th>5199951</th>\n",
       "      <td>Fixes for unary and indexing operations</td>\n",
       "      <td>rev</td>\n",
       "    </tr>\n",
       "    <tr>\n",
       "      <th>5199952</th>\n",
       "      <td>Revert Update CONTRIBUTINGmdThis reverts commi...</td>\n",
       "      <td>rev</td>\n",
       "    </tr>\n",
       "    <tr>\n",
       "      <th>5199953</th>\n",
       "      <td>Improve SEO tools CSS across themesbzr revid d...</td>\n",
       "      <td>rev</td>\n",
       "    </tr>\n",
       "    <tr>\n",
       "      <th>5199954</th>\n",
       "      <td>Update CONTRIBUTINGmdFixing broken issues link</td>\n",
       "      <td>rev</td>\n",
       "    </tr>\n",
       "    <tr>\n",
       "      <th>5199955</th>\n",
       "      <td>Only run CoalesceExtSubRegs when we can expect...</td>\n",
       "      <td>rev</td>\n",
       "    </tr>\n",
       "  </tbody>\n",
       "</table>\n",
       "<p>5199956 rows × 2 columns</p>\n",
       "</div>"
      ],
      "text/plain": [
       "                                                   message label\n",
       "0                            Release for February 4th 2015   rel\n",
       "1                                         tag version 0291   rel\n",
       "2        Whats new in Tornado 30Mar 29 2013Highlights T...   rel\n",
       "3                Windows build SickBeardwin32alphabuild469   rel\n",
       "4                                               Fabric 116   rel\n",
       "...                                                    ...   ...\n",
       "5199951            Fixes for unary and indexing operations   rev\n",
       "5199952  Revert Update CONTRIBUTINGmdThis reverts commi...   rev\n",
       "5199953  Improve SEO tools CSS across themesbzr revid d...   rev\n",
       "5199954     Update CONTRIBUTINGmdFixing broken issues link   rev\n",
       "5199955  Only run CoalesceExtSubRegs when we can expect...   rev\n",
       "\n",
       "[5199956 rows x 2 columns]"
      ]
     },
     "execution_count": 13,
     "metadata": {},
     "output_type": "execute_result"
    }
   ],
   "source": [
    " msgs_df"
   ]
  },
  {
   "cell_type": "markdown",
   "metadata": {},
   "source": [
    "### Create vectorizer and vectorize the messages"
   ]
  },
  {
   "cell_type": "code",
   "execution_count": 19,
   "metadata": {},
   "outputs": [],
   "source": [
    "sample_size = 100000\n",
    "release_size = release_df.shape[0]\n",
    "revision_size = revision_df.shape[0]"
   ]
  },
  {
   "cell_type": "markdown",
   "metadata": {},
   "source": [
    "#### Free up space for next processes"
   ]
  },
  {
   "cell_type": "code",
   "execution_count": 20,
   "metadata": {},
   "outputs": [],
   "source": [
    "del revision_df\n",
    "del release_df"
   ]
  },
  {
   "cell_type": "code",
   "execution_count": 21,
   "metadata": {},
   "outputs": [],
   "source": [
    "vectorizer = TfidfVectorizer(max_features=2500, min_df=7, max_df=0.8, stop_words=stopwords.words('english'))\n",
    "msgs_vect = vectorizer.fit_transform( msgs_df[:sample_size]['message'] ).toarray()"
   ]
  },
  {
   "cell_type": "code",
   "execution_count": 22,
   "metadata": {},
   "outputs": [
    {
     "data": {
      "text/plain": [
       "array([[0., 0., 0., ..., 0., 0., 0.],\n",
       "       [0., 0., 0., ..., 0., 0., 0.],\n",
       "       [0., 0., 0., ..., 0., 0., 0.],\n",
       "       ...,\n",
       "       [0., 0., 0., ..., 0., 0., 0.],\n",
       "       [0., 0., 0., ..., 0., 0., 0.],\n",
       "       [0., 0., 0., ..., 0., 0., 0.]])"
      ]
     },
     "execution_count": 22,
     "metadata": {},
     "output_type": "execute_result"
    }
   ],
   "source": [
    "msgs_vect"
   ]
  },
  {
   "cell_type": "markdown",
   "metadata": {},
   "source": [
    "### Split the vectorized commit messages into training and testing datas."
   ]
  },
  {
   "cell_type": "code",
   "execution_count": 23,
   "metadata": {},
   "outputs": [],
   "source": [
    "x_train, x_test, y_train, y_test = train_test_split(msgs_vect, msgs_df[:sample_size]['label'], test_size=0.2, random_state=0)"
   ]
  },
  {
   "cell_type": "markdown",
   "metadata": {},
   "source": [
    "### Using the Random Forest Calssifier, train the model."
   ]
  },
  {
   "cell_type": "code",
   "execution_count": 24,
   "metadata": {},
   "outputs": [
    {
     "data": {
      "text/plain": [
       "RandomForestClassifier(bootstrap=True, class_weight=None, criterion='gini',\n",
       "                       max_depth=None, max_features='auto', max_leaf_nodes=None,\n",
       "                       min_impurity_decrease=0.0, min_impurity_split=None,\n",
       "                       min_samples_leaf=1, min_samples_split=2,\n",
       "                       min_weight_fraction_leaf=0.0, n_estimators=200,\n",
       "                       n_jobs=None, oob_score=False, random_state=0, verbose=0,\n",
       "                       warm_start=False)"
      ]
     },
     "execution_count": 24,
     "metadata": {},
     "output_type": "execute_result"
    }
   ],
   "source": [
    "text_classifier = RandomForestClassifier(n_estimators=200, random_state=0)\n",
    "text_classifier.fit(x_train, y_train)"
   ]
  },
  {
   "cell_type": "markdown",
   "metadata": {},
   "source": [
    "### Using the trained model, predict using the testing data"
   ]
  },
  {
   "cell_type": "code",
   "execution_count": 25,
   "metadata": {},
   "outputs": [],
   "source": [
    "predictions = text_classifier.predict(x_test)"
   ]
  },
  {
   "cell_type": "code",
   "execution_count": 26,
   "metadata": {},
   "outputs": [
    {
     "data": {
      "text/plain": [
       "array(['rel', 'rev', 'rev', ..., 'rev', 'rev', 'rev'], dtype=object)"
      ]
     },
     "execution_count": 26,
     "metadata": {},
     "output_type": "execute_result"
    }
   ],
   "source": [
    "text_classifier.predict(x_test)"
   ]
  },
  {
   "cell_type": "markdown",
   "metadata": {},
   "source": [
    "### Print the Confusion Matrix, Classification Report, and the Accuracy Score"
   ]
  },
  {
   "cell_type": "code",
   "execution_count": 27,
   "metadata": {},
   "outputs": [
    {
     "name": "stdout",
     "output_type": "stream",
     "text": [
      "Confusion Matrix \n",
      "\n",
      " release revision \n",
      " [[ 1791   396]\n",
      " [   84 17729]] \n",
      "\n",
      "\n",
      "Classification Report\n",
      "\n",
      "               precision    recall  f1-score   support\n",
      "\n",
      "         rel       0.96      0.82      0.88      2187\n",
      "         rev       0.98      1.00      0.99     17813\n",
      "\n",
      "    accuracy                           0.98     20000\n",
      "   macro avg       0.97      0.91      0.93     20000\n",
      "weighted avg       0.98      0.98      0.98     20000\n",
      " \n",
      "\n",
      "\n",
      "Accuracy Score \n",
      "\n",
      " 0.976 \n",
      "\n",
      "\n"
     ]
    }
   ],
   "source": [
    "print(\"Confusion Matrix \\n\\n release revision \\n\", confusion_matrix(y_test,predictions), \"\\n\\n\")\n",
    "print(\"Classification Report\\n\\n\", classification_report(y_test,predictions),\"\\n\\n\")\n",
    "print(\"Accuracy Score \\n\\n\", accuracy_score(y_test, predictions), \"\\n\\n\")"
   ]
  },
  {
   "cell_type": "markdown",
   "metadata": {},
   "source": [
    "### Doing random sample to obseve"
   ]
  },
  {
   "cell_type": "code",
   "execution_count": 28,
   "metadata": {},
   "outputs": [
    {
     "name": "stdout",
     "output_type": "stream",
     "text": [
      "[\"Message: 'Adds support for versioned schema validation for microversions apiAdds the ability to specify minimum and maximum API microversionversions on jsonschema validation decorators Validation willonly occur throught the decorator if the incoming request versionmatches the version range specified If no range is specified thenvalidation will always occurPartially implements blueprint apimicroversionsChangeId Ia71963161966af3ca0e6e30e2245f12120f8f8d1' --> Predicted: rev, Expected: rev, CORRECT\"]\n"
     ]
    }
   ],
   "source": [
    "import random\n",
    "s_i = random.randint(0,sample_size)\n",
    "sample_x =  msgs_df['message'][s_i]\n",
    "sample_y = msgs_df['label'][s_i]\n",
    "sample_vect = msgs_vect[s_i]\n",
    "sample_pred = text_classifier.predict([sample_vect])\n",
    "sample_correct = \"CORRECT\" if sample_y == sample_pred  else \"FALSE\"\n",
    "\n",
    "print(\"Message: '\" + sample_x + \"' --> Predicted: \" + sample_pred + \", Expected: \" + sample_y + \", \" + sample_correct )"
   ]
  },
  {
   "cell_type": "markdown",
   "metadata": {},
   "source": [
    "### Sum all of the release vectors and revision vectors\n",
    "##### Column wise, so to create a single vector that represents all of the rel / rev"
   ]
  },
  {
   "cell_type": "code",
   "execution_count": 29,
   "metadata": {},
   "outputs": [],
   "source": [
    "rel_vect = msgs_vect[:10961].sum(axis=0)\n",
    "rev_vect = msgs_vect[10961:-1].sum(axis=0)"
   ]
  },
  {
   "cell_type": "markdown",
   "metadata": {},
   "source": [
    "### Creation a dictionary array. Holds each of the words used in the tokenizer and the index at which it is located."
   ]
  },
  {
   "cell_type": "code",
   "execution_count": 30,
   "metadata": {},
   "outputs": [
    {
     "data": {
      "text/plain": [
       "[('xml', 2490),\n",
       " ('yaml', 2491),\n",
       " ('year', 2492),\n",
       " ('yet', 2493),\n",
       " ('yield', 2494),\n",
       " ('yum', 2495),\n",
       " ('zero', 2496),\n",
       " ('zip', 2497),\n",
       " ('zone', 2498)]"
      ]
     },
     "execution_count": 30,
     "metadata": {},
     "output_type": "execute_result"
    }
   ],
   "source": [
    "# vectorizer.vocabulary_\n",
    "dictionary = sorted(vectorizer.vocabulary_.items(), key=lambda x: x[1])\n",
    "dictionary[-10:-1]"
   ]
  },
  {
   "cell_type": "markdown",
   "metadata": {},
   "source": [
    "### Create a list that holds the token and the value (~count)"
   ]
  },
  {
   "cell_type": "code",
   "execution_count": 31,
   "metadata": {},
   "outputs": [],
   "source": [
    "rel_list = sorted([(dictionary[i][0],int(rel_vect[i])) for i, x in enumerate(rel_vect)], key=lambda x: -x[1])\n",
    "rev_list = sorted([(dictionary[i][0],int(rev_vect[i])) for i, x in enumerate(rev_vect)], key=lambda x: -x[1])"
   ]
  },
  {
   "cell_type": "markdown",
   "metadata": {},
   "source": [
    "### The top 15 most important tokens for release and revision"
   ]
  },
  {
   "cell_type": "code",
   "execution_count": 32,
   "metadata": {},
   "outputs": [
    {
     "data": {
      "text/plain": [
       "[('release', 2812),\n",
       " ('pgp', 1783),\n",
       " ('version', 1499),\n",
       " ('tagging', 972),\n",
       " ('signature', 884),\n",
       " ('signatureversion', 603),\n",
       " ('gnupg', 591),\n",
       " ('tag', 344),\n",
       " ('android', 237),\n",
       " ('new', 199),\n",
       " ('build', 107),\n",
       " ('hotfix', 104),\n",
       " ('bump', 101),\n",
       " ('released', 97),\n",
       " ('hudson', 73)]"
      ]
     },
     "execution_count": 32,
     "metadata": {},
     "output_type": "execute_result"
    }
   ],
   "source": [
    "rel_list[:15]"
   ]
  },
  {
   "cell_type": "code",
   "execution_count": 33,
   "metadata": {},
   "outputs": [
    {
     "data": {
      "text/plain": [
       "[('update', 4763),\n",
       " ('merge', 3644),\n",
       " ('add', 2977),\n",
       " ('fix', 2947),\n",
       " ('link', 2260),\n",
       " ('commit', 2257),\n",
       " ('issues', 2213),\n",
       " ('broken', 2203),\n",
       " ('contributingmdfixing', 2153),\n",
       " ('revert', 2071),\n",
       " ('reverts', 1996),\n",
       " ('contributingmdthis', 1956),\n",
       " ('f4c7059a0b32e075aced9c578728f5f5ba819d5a', 1956),\n",
       " ('request', 1758),\n",
       " ('pull', 1737)]"
      ]
     },
     "execution_count": 33,
     "metadata": {},
     "output_type": "execute_result"
    }
   ],
   "source": [
    "rev_list[:15]"
   ]
  }
 ],
 "metadata": {
  "kernelspec": {
   "display_name": "Python 3",
   "language": "python",
   "name": "python3"
  },
  "language_info": {
   "codemirror_mode": {
    "name": "ipython",
    "version": 3
   },
   "file_extension": ".py",
   "mimetype": "text/x-python",
   "name": "python",
   "nbconvert_exporter": "python",
   "pygments_lexer": "ipython3",
   "version": "3.7.5"
  }
 },
 "nbformat": 4,
 "nbformat_minor": 2
}
