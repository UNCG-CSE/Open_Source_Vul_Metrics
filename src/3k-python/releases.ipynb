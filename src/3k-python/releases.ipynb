{
 "cells": [
  {
   "cell_type": "markdown",
   "metadata": {},
   "source": [
    "# Goal\n",
    "The goal of this notebook is to explore the correlation between new vulnerability discovery and a spike in open source software releases.\n",
    "\n",
    "## Data\n",
    "The `\"release.csv\"` dataset contains information pertaining to new software releases among open source software.\n",
    "The NVD data sets contain information about vulnerabilities\n",
    "\n",
    "##### Schema\n",
    "The dataset contains the following columns:\n",
    "`'id', 'target', 'date', 'date_offset', 'name', 'comment', 'author'`\n",
    "\n",
    "Some fields relate to a handful of other datasets (directory info, snapshots, servers). The extra data is unnseccecary for our purposes.\n",
    "\n",
    "## Challenges\n",
    "##### Large Dataset\n",
    "The full dataset is large (1.4 Gigs). A teaser dataset is being used to explore properties of the data.\n",
    "##### Unclear Connection\n",
    "We wish to compare this dataset with another set, NVD, which contains information about discovered software vulnerabilities.\n",
    "It may be possible to directly relate and connect the two datasets. This requires exploring of the two sets.\n",
    "\n",
    "Alternatively, we can always correlate the two.\n",
    "\n",
    "\n",
    "\n"
   ]
  },
  {
   "cell_type": "markdown",
   "metadata": {},
   "source": [
    "## Project Review 2\n",
    "\n",
    "Explore the correlation between vulnerability publish and spike in frequency.\n"
   ]
  },
  {
   "cell_type": "markdown",
   "metadata": {},
   "source": [
    "# Code\n",
    "Simple imports\n",
    "\n",
    "Declaring column headers and path to the data (on my machine)"
   ]
  },
  {
   "cell_type": "code",
   "execution_count": 1,
   "metadata": {},
   "outputs": [],
   "source": [
    "import numpy as np\n",
    "import matplotlib\n",
    "import matplotlib.pyplot as plt\n",
    "import pandas as pd\n",
    "\n",
    "import warnings\n",
    "warnings.filterwarnings('ignore')\n",
    "\n",
    "plt.rcParams[\"figure.figsize\"] = [16,9]"
   ]
  },
  {
   "cell_type": "markdown",
   "metadata": {},
   "source": [
    "# Releases"
   ]
  },
  {
   "cell_type": "code",
   "execution_count": 2,
   "metadata": {},
   "outputs": [],
   "source": [
    "release_header = ['id', 'target', 'date', 'date_offset', 'name', 'comment', 'author']\n",
    "revision_header = ['id', 'date', 'committer_date', 'directory', 'message', 'author', 'committer']\n",
    "# Path to release.csv, and whether to select uncompressed or ocmpressed version\n",
    "# release_path = 'D:/data/open_source/release.csv'\n",
    "release_path = 'D:/data/open_source/release.csv.gz'"
   ]
  },
  {
   "cell_type": "markdown",
   "metadata": {},
   "source": [
    "Some fields are stored as hexidecimal strings, this function converts it to decimal.\n",
    "\n",
    "Also, a function to convert the incoming date string to a dateitme object."
   ]
  },
  {
   "cell_type": "code",
   "execution_count": 3,
   "metadata": {},
   "outputs": [],
   "source": [
    "def hex_str(str):\n",
    "    return bytes.fromhex((str).replace('\\\\x','')).decode('utf-8')\n",
    "\n",
    "def date_str(str):\n",
    "    return pd.to_datetime(str, format='%Y-%m-%dT%H:%M:%S.000Z')"
   ]
  },
  {
   "cell_type": "markdown",
   "metadata": {},
   "source": [
    "The data is read in and only the useful columns are kept"
   ]
  },
  {
   "cell_type": "code",
   "execution_count": 4,
   "metadata": {},
   "outputs": [],
   "source": [
    "release_df = pd.read_csv(release_path, names=release_header, converters={'date':date_str,'comment':hex_str})\n",
    "release_df = release_df[['id','date','name','comment','author']]"
   ]
  },
  {
   "cell_type": "markdown",
   "metadata": {},
   "source": [
    "This function allows resample of the releases"
   ]
  },
  {
   "cell_type": "code",
   "execution_count": 5,
   "metadata": {},
   "outputs": [],
   "source": [
    "def releases_resample(resample_by):\n",
    "    return (release_df[['date','id']].set_index('date').resample( resample_by ).count()).rename(columns={'id':'count'})"
   ]
  },
  {
   "cell_type": "code",
   "execution_count": 6,
   "metadata": {},
   "outputs": [
    {
     "data": {
      "text/plain": [
       "<matplotlib.axes._subplots.AxesSubplot at 0x10b7e2b0>"
      ]
     },
     "execution_count": 6,
     "metadata": {},
     "output_type": "execute_result"
    },
    {
     "data": {
      "image/png": "[encoded data removed]",
      "text/plain": [
       "<Figure size 432x288 with 1 Axes>"
      ]
     },
     "metadata": {
      "needs_background": "light"
     },
     "output_type": "display_data"
    }
   ],
   "source": [
    "r_h = releases_resample('H')\n",
    "r_h.plot()"
   ]
  },
  {
   "cell_type": "code",
   "execution_count": 7,
   "metadata": {},
   "outputs": [
    {
     "data": {
      "text/plain": [
       "<matplotlib.axes._subplots.AxesSubplot at 0x10caa350>"
      ]
     },
     "execution_count": 7,
     "metadata": {},
     "output_type": "execute_result"
    },
    {
     "data": {
      "image/png": "[encoded data removed]",
      "text/plain": [
       "<Figure size 432x288 with 1 Axes>"
      ]
     },
     "metadata": {
      "needs_background": "light"
     },
     "output_type": "display_data"
    }
   ],
   "source": [
    "r_d = releases_resample('d')\n",
    "r_d.plot()"
   ]
  },
  {
   "cell_type": "code",
   "execution_count": 8,
   "metadata": {},
   "outputs": [
    {
     "data": {
      "text/html": [
       "<div>\n",
       "<style scoped>\n",
       "    .dataframe tbody tr th:only-of-type {\n",
       "        vertical-align: middle;\n",
       "    }\n",
       "\n",
       "    .dataframe tbody tr th {\n",
       "        vertical-align: top;\n",
       "    }\n",
       "\n",
       "    .dataframe thead th {\n",
       "        text-align: right;\n",
       "    }\n",
       "</style>\n",
       "<table border=\"1\" class=\"dataframe\">\n",
       "  <thead>\n",
       "    <tr style=\"text-align: right;\">\n",
       "      <th></th>\n",
       "      <th>count</th>\n",
       "    </tr>\n",
       "    <tr>\n",
       "      <th>date</th>\n",
       "      <th></th>\n",
       "    </tr>\n",
       "  </thead>\n",
       "  <tbody>\n",
       "    <tr>\n",
       "      <td>2005-09-16</td>\n",
       "      <td>1</td>\n",
       "    </tr>\n",
       "    <tr>\n",
       "      <td>2005-09-17</td>\n",
       "      <td>0</td>\n",
       "    </tr>\n",
       "    <tr>\n",
       "      <td>2005-09-18</td>\n",
       "      <td>0</td>\n",
       "    </tr>\n",
       "    <tr>\n",
       "      <td>2005-09-19</td>\n",
       "      <td>1</td>\n",
       "    </tr>\n",
       "    <tr>\n",
       "      <td>2005-09-20</td>\n",
       "      <td>0</td>\n",
       "    </tr>\n",
       "  </tbody>\n",
       "</table>\n",
       "</div>"
      ],
      "text/plain": [
       "            count\n",
       "date             \n",
       "2005-09-16      1\n",
       "2005-09-17      0\n",
       "2005-09-18      0\n",
       "2005-09-19      1\n",
       "2005-09-20      0"
      ]
     },
     "execution_count": 8,
     "metadata": {},
     "output_type": "execute_result"
    }
   ],
   "source": [
    "r_d.head()"
   ]
  },
  {
   "cell_type": "markdown",
   "metadata": {},
   "source": [
    "Here we see spikes in the data. This may be erreoneous data.\n",
    "\n",
    "It is possible that these spikes in `dayly` release rate is due to a response to an extreme vulnerability. This could also be due to various other factors, such as github/others servers crashing, and only pushing releases after coming back online."
   ]
  },
  {
   "cell_type": "markdown",
   "metadata": {},
   "source": [
    "# National Vulnerability Dataset\n",
    "NVD Files available for download at https://nvd.nist.gov/vuln/data-feeds"
   ]
  },
  {
   "cell_type": "code",
   "execution_count": 9,
   "metadata": {},
   "outputs": [],
   "source": [
    "# Path to nvd file directory\n",
    "nvd_dir = 'D:/data/open_source/NVD/'\n",
    "\n",
    "# Select file type to load\n",
    "# nvd_file_type = '.json'\n",
    "nvd_file_type = '.json.zip'\n",
    "# nvd_file_type = '.json.gz'"
   ]
  },
  {
   "cell_type": "code",
   "execution_count": 10,
   "metadata": {},
   "outputs": [],
   "source": [
    "def date_str_nvd(st):\n",
    "    return pd.to_datetime( st, format='%Y-%m-%dT%H:%MZ')\n",
    "\n",
    "def score_nvd(json):\n",
    "    if json['impact'] and 'baseMetricV2' in json['impact']:\n",
    "        return json['impact']['baseMetricV2']['cvssV2']['baseScore']\n",
    "    else:\n",
    "        return 0.0"
   ]
  },
  {
   "cell_type": "markdown",
   "metadata": {},
   "source": [
    "Gather all NVD Datasets into one dataframe"
   ]
  },
  {
   "cell_type": "code",
   "execution_count": 11,
   "metadata": {},
   "outputs": [],
   "source": [
    "def import_nvd(nvd_start=2, nvd_end=19):\n",
    "    \n",
    "    for i in range(nvd_start,nvd_end):\n",
    "        \n",
    "        year = '20'+str(i).zfill(2)\n",
    "        path = nvd_dir+'nvdcve-1.1-'+year+nvd_file_type\n",
    "        if i==nvd_start:\n",
    "            nvd = pd.read_json(path, encoding=\"utf8\")\n",
    "        else:\n",
    "            nvd = nvd.append( pd.read_json(path, encoding=\"utf8\") )\n",
    "    nvd = nvd.reset_index()\n",
    "    return nvd.drop(['index'], 1)\n",
    "\n",
    "def import_nvd_clean(nvd_start=2, nvd_end=20):\n",
    "    \n",
    "    for i in range(nvd_start,nvd_end):\n",
    "        \n",
    "        year = '20'+str(i).zfill(2)\n",
    "        path = nvd_dir+'nvdcve-1.1-'+year+nvd_file_type\n",
    "        if i==nvd_start:\n",
    "            nvd = clean_nvd(pd.read_json(path, encoding=\"utf8\"))\n",
    "        else:\n",
    "            nvd = nvd.append( clean_nvd(pd.read_json(path, encoding=\"utf8\")) )\n",
    "    nvd = nvd.reset_index()\n",
    "    return nvd.drop(['index'], 1)\n",
    "    \n",
    "\n",
    "\n",
    "def clean_nvd(nvd):\n",
    "    nvd['date'] = nvd['CVE_Items'].apply( lambda x: date_str_nvd(x['publishedDate']) )\n",
    "    nvd['score'] = nvd['CVE_Items'].apply( lambda x: score_nvd(x) )\n",
    "    new_nvd = nvd.drop(['CVE_data_type','CVE_data_format','CVE_data_version','CVE_data_numberOfCVEs','CVE_data_timestamp','CVE_Items'], 1)\n",
    "    return new_nvd"
   ]
  },
  {
   "cell_type": "markdown",
   "metadata": {},
   "source": [
    "`nvd` contains all NVD Vulnerability information\n",
    "Not much of it is needed, and takes a lot of memory."
   ]
  },
  {
   "cell_type": "code",
   "execution_count": 12,
   "metadata": {},
   "outputs": [],
   "source": [
    "#nvd = import_nvd(15,16)"
   ]
  },
  {
   "cell_type": "code",
   "execution_count": 13,
   "metadata": {},
   "outputs": [],
   "source": [
    "#nvd.head()"
   ]
  },
  {
   "cell_type": "markdown",
   "metadata": {},
   "source": [
    "Nearly all useful information (date and score) is held within the JSON object in the `CVE_Items` tab."
   ]
  },
  {
   "cell_type": "code",
   "execution_count": 14,
   "metadata": {},
   "outputs": [],
   "source": [
    "#nvd['CVE_Items'][1]"
   ]
  },
  {
   "cell_type": "markdown",
   "metadata": {},
   "source": [
    "All vulnerabilities within NVD have a published date accessible by"
   ]
  },
  {
   "cell_type": "code",
   "execution_count": 15,
   "metadata": {},
   "outputs": [],
   "source": [
    "#nvd['CVE_Items'][1]['publishedDate']"
   ]
  },
  {
   "cell_type": "markdown",
   "metadata": {},
   "source": [
    "Along with a vulnerability score, accessible by"
   ]
  },
  {
   "cell_type": "code",
   "execution_count": 16,
   "metadata": {},
   "outputs": [],
   "source": [
    "#nvd['CVE_Items'][1]['impact']['baseMetricV2']['cvssV2']['baseScore']"
   ]
  },
  {
   "cell_type": "markdown",
   "metadata": {},
   "source": [
    "Some (around 10% of) vulnerabilities have no vulnerability information. They are given a score of 0.0 (for now)"
   ]
  },
  {
   "cell_type": "code",
   "execution_count": 17,
   "metadata": {},
   "outputs": [],
   "source": [
    "#nvd['CVE_Items'][25]#['impact']['baseMetricV2']['cvssV2']['baseScore']"
   ]
  },
  {
   "cell_type": "markdown",
   "metadata": {},
   "source": [
    "`clean_nvd` imports NVD, but only keeps the important columns.\n",
    "`date` (date vulnerability was published) and `score` (A measure of the severity and impact of the vulnerability 0.0-10.0). Most all other columns are removed, as they are not needed."
   ]
  },
  {
   "cell_type": "code",
   "execution_count": null,
   "metadata": {},
   "outputs": [],
   "source": [
    "nvd_clean = import_nvd_clean()"
   ]
  },
  {
   "cell_type": "code",
   "execution_count": null,
   "metadata": {},
   "outputs": [],
   "source": [
    "nvd_clean.head()"
   ]
  },
  {
   "cell_type": "markdown",
   "metadata": {},
   "source": [
    "Number of vulnerabilities given score of 0.0 since they had no vulnerability information"
   ]
  },
  {
   "cell_type": "code",
   "execution_count": null,
   "metadata": {},
   "outputs": [],
   "source": [
    "nvd_clean[ nvd_clean.score == 0.0].shape[0]"
   ]
  },
  {
   "cell_type": "code",
   "execution_count": null,
   "metadata": {},
   "outputs": [],
   "source": [
    "def vulnerability_resample(resample_by):\n",
    "    return (nvd_clean[['date','score']].set_index('date').resample(resample_by).count()).rename(columns={'score':'count'})"
   ]
  },
  {
   "cell_type": "code",
   "execution_count": null,
   "metadata": {},
   "outputs": [],
   "source": [
    "v_h = vulnerability_resample('h')\n",
    "v_d = vulnerability_resample('d')"
   ]
  },
  {
   "cell_type": "code",
   "execution_count": null,
   "metadata": {},
   "outputs": [],
   "source": [
    "v_d.plot(color=\"red\")"
   ]
  },
  {
   "cell_type": "markdown",
   "metadata": {},
   "source": [
    "# Correlation Between Release and NVD"
   ]
  },
  {
   "cell_type": "markdown",
   "metadata": {},
   "source": [
    "We next explore if there is a correlation between vulnerability publish date and spike in frequency"
   ]
  },
  {
   "cell_type": "code",
   "execution_count": null,
   "metadata": {},
   "outputs": [],
   "source": [
    "plt.plot(r_d*10, label=\"Releases (Scaled x10)\")\n",
    "plt.plot(v_d, label=\"Vulnerabilities\")\n",
    "plt.legend()\n",
    "plt.xlabel(\"Year\")\n",
    "plt.ylabel(\"Number\")\n",
    "plt.show()"
   ]
  },
  {
   "cell_type": "markdown",
   "metadata": {},
   "source": [
    "#### Exploring basic correlation\n",
    "Weekly resampling of releases and vulnerabilities"
   ]
  },
  {
   "cell_type": "code",
   "execution_count": null,
   "metadata": {},
   "outputs": [],
   "source": [
    "r_w = releases_resample('w')\n",
    "v_w = vulnerability_resample('w')"
   ]
  },
  {
   "cell_type": "markdown",
   "metadata": {},
   "source": [
    "Correlation between the sets on daily and weekly basis is calculated"
   ]
  },
  {
   "cell_type": "code",
   "execution_count": null,
   "metadata": {},
   "outputs": [],
   "source": [
    "print( r_d['count'].corr(v_d['count']) )\n",
    "print( r_w['count'].corr(v_w['count']) )"
   ]
  },
  {
   "cell_type": "markdown",
   "metadata": {},
   "source": [
    "There could potentially be a relationship between vulnerability release and rise in release frequency. Weekly is likely higher as patches are not releases the same day, generally."
   ]
  },
  {
   "cell_type": "markdown",
   "metadata": {},
   "source": [
    "These functions are used in the next part of the analysis. They get ranges of dates and calculate the number of releases."
   ]
  },
  {
   "cell_type": "code",
   "execution_count": null,
   "metadata": {},
   "outputs": [],
   "source": [
    "def get_delta_date(date, days):\n",
    "    return (pd.to_datetime(date) + pd.Timedelta(days=days))\n",
    "    # return np.datetime64((pd.to_datetime(date) + pd.Timedelta(days=days)), 'D')\n",
    "\n",
    "def get_range(rel_df, start_date, end_date):\n",
    "    return rel_df[rel_df.date > start_date][rel_df.date < end_date]\n",
    "   \n",
    "def get_count(rel_df):\n",
    "    return rel_df['count'].sum()\n",
    "\n",
    "def get_range_count(rel_df, start_date, end_date):\n",
    "    return get_count( get_range(rel_df, start_date, end_date) )\n",
    "\n",
    "def get_period(rel_df, date, days):\n",
    "    start_date = get_delta_date(date, -days)\n",
    "    end_date = get_delta_date(date, days)\n",
    "    return get_range(rel_df, start_date, end_date)\n",
    "\n",
    "def get_period_count(rel_df, date, days):\n",
    "    return get_count(get_priod(rel_df, date, days))\n",
    "    \n",
    "def get_period_avg(rel_df, date, days):\n",
    "    return get_count( get_period(rel_df, date, days) ) / days\n",
    "\n",
    "def get_prev_avg(rel_df, date, days):\n",
    "    return get_count( get_range(rel_df, get_delta_date(date, -days), date ) ) / days\n",
    "\n",
    "def get_next_avg(rel_df, date, days):\n",
    "    return get_count( get_range(rel_df, date, get_delta_date(date, days) ) ) / days\n",
    "\n",
    "def get_delta_avg(rel_df, date, days):\n",
    "    return get_next_avg(rel_df, date, days) - get_prev_avg(rel_df, date, days)"
   ]
  },
  {
   "cell_type": "markdown",
   "metadata": {},
   "source": [
    "Dataframe consisting of just the most severe vulnerabilities."
   ]
  },
  {
   "cell_type": "code",
   "execution_count": null,
   "metadata": {},
   "outputs": [],
   "source": [
    "severe_vuln = nvd_clean[ nvd_clean.score == 10.0]\n",
    "severe_vuln"
   ]
  },
  {
   "cell_type": "code",
   "execution_count": null,
   "metadata": {},
   "outputs": [],
   "source": [
    "r_d = r_d.reset_index(inplace=True)\n",
    "r_d"
   ]
  },
  {
   "cell_type": "markdown",
   "metadata": {},
   "source": [
    "For now, only a year before and after January 1st, 2016 is analyzed."
   ]
  },
  {
   "cell_type": "code",
   "execution_count": null,
   "metadata": {},
   "outputs": [],
   "source": [
    "severe_16 = get_period(severe_vuln, '2016-01-01', days=365)"
   ]
  },
  {
   "cell_type": "markdown",
   "metadata": {},
   "source": [
    "The difference in the average number of releases the week before and after a 10.0 vulnerability is published is calculated."
   ]
  },
  {
   "cell_type": "code",
   "execution_count": null,
   "metadata": {},
   "outputs": [],
   "source": [
    "delta_avg = severe_16['date'].apply(lambda x: get_delta_avg(r_d, x.floor('d'), days=7) )"
   ]
  },
  {
   "cell_type": "markdown",
   "metadata": {},
   "source": [
    "We would expect the average change in frequency to be positive; that is, releases to be more frequent in the week following a vulnerability is published compared to the week before the vulnerability was published.\n",
    "\n",
    "However, the mean is taken. Here the value is very small, and n"
   ]
  },
  {
   "cell_type": "code",
   "execution_count": null,
   "metadata": {},
   "outputs": [],
   "source": [
    "delta_avg.mean()"
   ]
  },
  {
   "cell_type": "code",
   "execution_count": null,
   "metadata": {},
   "outputs": [],
   "source": []
  }
 ],
 "metadata": {
  "kernelspec": {
   "display_name": "Python 3",
   "language": "python",
   "name": "python3"
  },
  "language_info": {
   "codemirror_mode": {
    "name": "ipython",
    "version": 3
   },
   "file_extension": ".py",
   "mimetype": "text/x-python",
   "name": "python",
   "nbconvert_exporter": "python",
   "pygments_lexer": "ipython3",
   "version": "3.7.3"
  }
 },
 "nbformat": 4,
 "nbformat_minor": 2
}
