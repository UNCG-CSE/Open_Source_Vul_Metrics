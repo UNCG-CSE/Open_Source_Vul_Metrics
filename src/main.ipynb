{
 "cells": [
  {
   "cell_type": "markdown",
   "metadata": {},
   "source": [
    "# Goal\n",
    "The goal of this notebook is to explore the data within the \"releases.csv\"\n",
    "This dataset contains information pertaining to new software releases among open source software.\n",
    "\n",
    "## Data\n",
    "The data being explored is the `\"release.csv\"`\n",
    "\n",
    "##### Schema\n",
    "The dataset contains the following columns:\n",
    "`'id', 'target', 'date', 'date_offset', 'name', 'comment', 'author'`\n",
    "\n",
    "Some fields relate to a handful of other datasets (directory info, snapshots, servers). The extra data is unnseccecary for our purposes.\n",
    "\n",
    "## Challenges\n",
    "##### Large Dataset\n",
    "The full dataset is large (1.4 Gigs). A teaser dataset is being used to explore properties of the data.\n",
    "##### Unclear Connection\n",
    "We wish to compare this dataset with another set, NVD, which contains information about discovered software vulnerabilities.\n",
    "It may be possible to directly relate and connect the two datasets. This requires exploring of the two sets.\n",
    "\n",
    "Alternatively, we can always correlate the two.\n",
    "\n",
    "\n",
    "\n"
   ]
  },
  {
   "cell_type": "markdown",
   "metadata": {},
   "source": [
    "# Code\n",
    "Simple imports\n",
    "\n",
    "Declaring column headers and path to the data (on my machine)"
   ]
  },
  {
   "cell_type": "code",
   "execution_count": 12,
   "metadata": {},
   "outputs": [],
   "source": [
    "import numpy as np\n",
    "import matplotlib\n",
    "import matplotlib.pyplot as plt\n",
    "import pandas as pd\n",
    "\n",
    "plt.rcParams[\"figure.figsize\"] = [16,9]"
   ]
  },
  {
   "cell_type": "code",
   "execution_count": 2,
   "metadata": {},
   "outputs": [],
   "source": [
    "release_header = ['id', 'target', 'date', 'date_offset', 'name', 'comment', 'author']\n",
    "revision_header = ['id', 'date', 'committer_date', 'directory', 'message', 'author', 'committer']\n",
    "release_path = 'D:/data/open_source/release.csv.gz'"
   ]
  },
  {
   "cell_type": "markdown",
   "metadata": {},
   "source": [
    "Some fields are stored as hexidecimal strings, this function converts it to decimal.\n",
    "\n",
    "Also, a function to convert the incoming date string to a dateitme object."
   ]
  },
  {
   "cell_type": "code",
   "execution_count": 44,
   "metadata": {},
   "outputs": [],
   "source": [
    "def hex_str(str):\n",
    "    return bytes.fromhex((str).replace('\\\\x','')).decode('utf-8')\n",
    "\n",
    "def date_str(str):\n",
    "    return pd.to_datetime(str, format='%Y-%m-%dT%H:%M:%S.000Z')"
   ]
  },
  {
   "cell_type": "markdown",
   "metadata": {},
   "source": [
    "The data is read in and only the useful columns are kept"
   ]
  },
  {
   "cell_type": "code",
   "execution_count": 45,
   "metadata": {},
   "outputs": [],
   "source": [
    "release_df = pd.read_csv(release_path, names=release_header, converters={'date':date_str,'comment':hex_str})\n",
    "release_df = release_df[['id','date','name','comment','author']]"
   ]
  },
  {
   "cell_type": "markdown",
   "metadata": {},
   "source": [
    "Here the data is organized by date into the amount of releases pushed per hour. This is then graphed."
   ]
  },
  {
   "cell_type": "code",
   "execution_count": 46,
   "metadata": {},
   "outputs": [],
   "source": [
    "releases_per_hour = (release_df[['date','id']].set_index('date').resample('H').count()).rename(columns={'id':'count'})"
   ]
  },
  {
   "cell_type": "code",
   "execution_count": 47,
   "metadata": {},
   "outputs": [
    {
     "data": {
      "text/html": [
       "<div>\n",
       "<style scoped>\n",
       "    .dataframe tbody tr th:only-of-type {\n",
       "        vertical-align: middle;\n",
       "    }\n",
       "\n",
       "    .dataframe tbody tr th {\n",
       "        vertical-align: top;\n",
       "    }\n",
       "\n",
       "    .dataframe thead th {\n",
       "        text-align: right;\n",
       "    }\n",
       "</style>\n",
       "<table border=\"1\" class=\"dataframe\">\n",
       "  <thead>\n",
       "    <tr style=\"text-align: right;\">\n",
       "      <th></th>\n",
       "      <th>count</th>\n",
       "    </tr>\n",
       "    <tr>\n",
       "      <th>date</th>\n",
       "      <th></th>\n",
       "    </tr>\n",
       "  </thead>\n",
       "  <tbody>\n",
       "    <tr>\n",
       "      <td>2005-09-16 23:00:00</td>\n",
       "      <td>1</td>\n",
       "    </tr>\n",
       "    <tr>\n",
       "      <td>2005-09-17 00:00:00</td>\n",
       "      <td>0</td>\n",
       "    </tr>\n",
       "    <tr>\n",
       "      <td>2005-09-17 01:00:00</td>\n",
       "      <td>0</td>\n",
       "    </tr>\n",
       "    <tr>\n",
       "      <td>2005-09-17 02:00:00</td>\n",
       "      <td>0</td>\n",
       "    </tr>\n",
       "    <tr>\n",
       "      <td>2005-09-17 03:00:00</td>\n",
       "      <td>0</td>\n",
       "    </tr>\n",
       "    <tr>\n",
       "      <td>...</td>\n",
       "      <td>...</td>\n",
       "    </tr>\n",
       "    <tr>\n",
       "      <td>2018-09-22 16:00:00</td>\n",
       "      <td>0</td>\n",
       "    </tr>\n",
       "    <tr>\n",
       "      <td>2018-09-22 17:00:00</td>\n",
       "      <td>0</td>\n",
       "    </tr>\n",
       "    <tr>\n",
       "      <td>2018-09-22 18:00:00</td>\n",
       "      <td>0</td>\n",
       "    </tr>\n",
       "    <tr>\n",
       "      <td>2018-09-22 19:00:00</td>\n",
       "      <td>0</td>\n",
       "    </tr>\n",
       "    <tr>\n",
       "      <td>2018-09-22 20:00:00</td>\n",
       "      <td>1</td>\n",
       "    </tr>\n",
       "  </tbody>\n",
       "</table>\n",
       "<p>114094 rows × 1 columns</p>\n",
       "</div>"
      ],
      "text/plain": [
       "                     count\n",
       "date                      \n",
       "2005-09-16 23:00:00      1\n",
       "2005-09-17 00:00:00      0\n",
       "2005-09-17 01:00:00      0\n",
       "2005-09-17 02:00:00      0\n",
       "2005-09-17 03:00:00      0\n",
       "...                    ...\n",
       "2018-09-22 16:00:00      0\n",
       "2018-09-22 17:00:00      0\n",
       "2018-09-22 18:00:00      0\n",
       "2018-09-22 19:00:00      0\n",
       "2018-09-22 20:00:00      1\n",
       "\n",
       "[114094 rows x 1 columns]"
      ]
     },
     "execution_count": 47,
     "metadata": {},
     "output_type": "execute_result"
    }
   ],
   "source": [
    "releases_per_hour"
   ]
  },
  {
   "cell_type": "code",
   "execution_count": 48,
   "metadata": {},
   "outputs": [
    {
     "data": {
      "text/plain": [
       "<matplotlib.axes._subplots.AxesSubplot at 0xfde4eb0>"
      ]
     },
     "execution_count": 48,
     "metadata": {},
     "output_type": "execute_result"
    },
    {
     "data": {
      "image/png": "[encoded data removed]",
      "text/plain": [
       "<Figure size 1152x648 with 1 Axes>"
      ]
     },
     "metadata": {
      "needs_background": "light"
     },
     "output_type": "display_data"
    }
   ],
   "source": [
    "releases_per_hour.plot()"
   ]
  },
  {
   "cell_type": "markdown",
   "metadata": {},
   "source": [
    "Here we see spikes in the data. This will need to be explored further.\n",
    "\n",
    "It is possible that these spikes in `hourly` release rate is due to a response to an extreme vulnerability. This could also be due to various other factors, such as github/others servers crashing, and only pushing releases after coming back online."
   ]
  },
  {
   "cell_type": "code",
   "execution_count": 8,
   "metadata": {},
   "outputs": [
    {
     "data": {
      "text/html": [
       "<div>\n",
       "<style scoped>\n",
       "    .dataframe tbody tr th:only-of-type {\n",
       "        vertical-align: middle;\n",
       "    }\n",
       "\n",
       "    .dataframe tbody tr th {\n",
       "        vertical-align: top;\n",
       "    }\n",
       "\n",
       "    .dataframe thead th {\n",
       "        text-align: right;\n",
       "    }\n",
       "</style>\n",
       "<table border=\"1\" class=\"dataframe\">\n",
       "  <thead>\n",
       "    <tr style=\"text-align: right;\">\n",
       "      <th></th>\n",
       "      <th>count</th>\n",
       "    </tr>\n",
       "    <tr>\n",
       "      <th>date</th>\n",
       "      <th></th>\n",
       "    </tr>\n",
       "  </thead>\n",
       "  <tbody>\n",
       "    <tr>\n",
       "      <td>2009-10-10 15:00:00</td>\n",
       "      <td>13</td>\n",
       "    </tr>\n",
       "    <tr>\n",
       "      <td>2011-03-02 21:00:00</td>\n",
       "      <td>22</td>\n",
       "    </tr>\n",
       "    <tr>\n",
       "      <td>2011-09-25 01:00:00</td>\n",
       "      <td>29</td>\n",
       "    </tr>\n",
       "    <tr>\n",
       "      <td>2011-09-25 02:00:00</td>\n",
       "      <td>19</td>\n",
       "    </tr>\n",
       "    <tr>\n",
       "      <td>2012-05-08 01:00:00</td>\n",
       "      <td>21</td>\n",
       "    </tr>\n",
       "    <tr>\n",
       "      <td>2012-09-30 04:00:00</td>\n",
       "      <td>52</td>\n",
       "    </tr>\n",
       "    <tr>\n",
       "      <td>2013-07-05 05:00:00</td>\n",
       "      <td>15</td>\n",
       "    </tr>\n",
       "    <tr>\n",
       "      <td>2013-09-05 08:00:00</td>\n",
       "      <td>23</td>\n",
       "    </tr>\n",
       "    <tr>\n",
       "      <td>2014-11-30 09:00:00</td>\n",
       "      <td>25</td>\n",
       "    </tr>\n",
       "    <tr>\n",
       "      <td>2015-01-11 20:00:00</td>\n",
       "      <td>13</td>\n",
       "    </tr>\n",
       "    <tr>\n",
       "      <td>2017-06-19 00:00:00</td>\n",
       "      <td>12</td>\n",
       "    </tr>\n",
       "  </tbody>\n",
       "</table>\n",
       "</div>"
      ],
      "text/plain": [
       "                     count\n",
       "date                      \n",
       "2009-10-10 15:00:00     13\n",
       "2011-03-02 21:00:00     22\n",
       "2011-09-25 01:00:00     29\n",
       "2011-09-25 02:00:00     19\n",
       "2012-05-08 01:00:00     21\n",
       "2012-09-30 04:00:00     52\n",
       "2013-07-05 05:00:00     15\n",
       "2013-09-05 08:00:00     23\n",
       "2014-11-30 09:00:00     25\n",
       "2015-01-11 20:00:00     13\n",
       "2017-06-19 00:00:00     12"
      ]
     },
     "execution_count": 8,
     "metadata": {},
     "output_type": "execute_result"
    }
   ],
   "source": [
    "releases_per_hour[ releases_per_hour.values > 10 ]"
   ]
  },
  {
   "cell_type": "code",
   "execution_count": 58,
   "metadata": {},
   "outputs": [],
   "source": [
    "def date_str_nvd(str):\n",
    "    return pd.to_datetime( str, format='%Y-%m-%dT%H:%MZ')"
   ]
  },
  {
   "cell_type": "code",
   "execution_count": 87,
   "metadata": {},
   "outputs": [],
   "source": [
    "nvd_12_df = pd.read_json('D:/data/open_source/NVD/nvdcve-1.1-2012.json.gz')"
   ]
  },
  {
   "cell_type": "code",
   "execution_count": 88,
   "metadata": {},
   "outputs": [
    {
     "data": {
      "text/html": [
       "<div>\n",
       "<style scoped>\n",
       "    .dataframe tbody tr th:only-of-type {\n",
       "        vertical-align: middle;\n",
       "    }\n",
       "\n",
       "    .dataframe tbody tr th {\n",
       "        vertical-align: top;\n",
       "    }\n",
       "\n",
       "    .dataframe thead th {\n",
       "        text-align: right;\n",
       "    }\n",
       "</style>\n",
       "<table border=\"1\" class=\"dataframe\">\n",
       "  <thead>\n",
       "    <tr style=\"text-align: right;\">\n",
       "      <th></th>\n",
       "      <th>CVE_data_type</th>\n",
       "      <th>CVE_data_format</th>\n",
       "      <th>CVE_data_version</th>\n",
       "      <th>CVE_data_numberOfCVEs</th>\n",
       "      <th>CVE_data_timestamp</th>\n",
       "      <th>CVE_Items</th>\n",
       "    </tr>\n",
       "  </thead>\n",
       "  <tbody>\n",
       "    <tr>\n",
       "      <td>0</td>\n",
       "      <td>CVE</td>\n",
       "      <td>MITRE</td>\n",
       "      <td>4</td>\n",
       "      <td>5559</td>\n",
       "      <td>2019-09-10T00:12Z</td>\n",
       "      <td>{'cve': {'data_type': 'CVE', 'data_format': 'M...</td>\n",
       "    </tr>\n",
       "    <tr>\n",
       "      <td>1</td>\n",
       "      <td>CVE</td>\n",
       "      <td>MITRE</td>\n",
       "      <td>4</td>\n",
       "      <td>5559</td>\n",
       "      <td>2019-09-10T00:12Z</td>\n",
       "      <td>{'cve': {'data_type': 'CVE', 'data_format': 'M...</td>\n",
       "    </tr>\n",
       "    <tr>\n",
       "      <td>2</td>\n",
       "      <td>CVE</td>\n",
       "      <td>MITRE</td>\n",
       "      <td>4</td>\n",
       "      <td>5559</td>\n",
       "      <td>2019-09-10T00:12Z</td>\n",
       "      <td>{'cve': {'data_type': 'CVE', 'data_format': 'M...</td>\n",
       "    </tr>\n",
       "    <tr>\n",
       "      <td>3</td>\n",
       "      <td>CVE</td>\n",
       "      <td>MITRE</td>\n",
       "      <td>4</td>\n",
       "      <td>5559</td>\n",
       "      <td>2019-09-10T00:12Z</td>\n",
       "      <td>{'cve': {'data_type': 'CVE', 'data_format': 'M...</td>\n",
       "    </tr>\n",
       "    <tr>\n",
       "      <td>4</td>\n",
       "      <td>CVE</td>\n",
       "      <td>MITRE</td>\n",
       "      <td>4</td>\n",
       "      <td>5559</td>\n",
       "      <td>2019-09-10T00:12Z</td>\n",
       "      <td>{'cve': {'data_type': 'CVE', 'data_format': 'M...</td>\n",
       "    </tr>\n",
       "    <tr>\n",
       "      <td>...</td>\n",
       "      <td>...</td>\n",
       "      <td>...</td>\n",
       "      <td>...</td>\n",
       "      <td>...</td>\n",
       "      <td>...</td>\n",
       "      <td>...</td>\n",
       "    </tr>\n",
       "    <tr>\n",
       "      <td>5554</td>\n",
       "      <td>CVE</td>\n",
       "      <td>MITRE</td>\n",
       "      <td>4</td>\n",
       "      <td>5559</td>\n",
       "      <td>2019-09-10T00:12Z</td>\n",
       "      <td>{'cve': {'data_type': 'CVE', 'data_format': 'M...</td>\n",
       "    </tr>\n",
       "    <tr>\n",
       "      <td>5555</td>\n",
       "      <td>CVE</td>\n",
       "      <td>MITRE</td>\n",
       "      <td>4</td>\n",
       "      <td>5559</td>\n",
       "      <td>2019-09-10T00:12Z</td>\n",
       "      <td>{'cve': {'data_type': 'CVE', 'data_format': 'M...</td>\n",
       "    </tr>\n",
       "    <tr>\n",
       "      <td>5556</td>\n",
       "      <td>CVE</td>\n",
       "      <td>MITRE</td>\n",
       "      <td>4</td>\n",
       "      <td>5559</td>\n",
       "      <td>2019-09-10T00:12Z</td>\n",
       "      <td>{'cve': {'data_type': 'CVE', 'data_format': 'M...</td>\n",
       "    </tr>\n",
       "    <tr>\n",
       "      <td>5557</td>\n",
       "      <td>CVE</td>\n",
       "      <td>MITRE</td>\n",
       "      <td>4</td>\n",
       "      <td>5559</td>\n",
       "      <td>2019-09-10T00:12Z</td>\n",
       "      <td>{'cve': {'data_type': 'CVE', 'data_format': 'M...</td>\n",
       "    </tr>\n",
       "    <tr>\n",
       "      <td>5558</td>\n",
       "      <td>CVE</td>\n",
       "      <td>MITRE</td>\n",
       "      <td>4</td>\n",
       "      <td>5559</td>\n",
       "      <td>2019-09-10T00:12Z</td>\n",
       "      <td>{'cve': {'data_type': 'CVE', 'data_format': 'M...</td>\n",
       "    </tr>\n",
       "  </tbody>\n",
       "</table>\n",
       "<p>5559 rows × 6 columns</p>\n",
       "</div>"
      ],
      "text/plain": [
       "     CVE_data_type CVE_data_format  CVE_data_version  CVE_data_numberOfCVEs  \\\n",
       "0              CVE           MITRE                 4                   5559   \n",
       "1              CVE           MITRE                 4                   5559   \n",
       "2              CVE           MITRE                 4                   5559   \n",
       "3              CVE           MITRE                 4                   5559   \n",
       "4              CVE           MITRE                 4                   5559   \n",
       "...            ...             ...               ...                    ...   \n",
       "5554           CVE           MITRE                 4                   5559   \n",
       "5555           CVE           MITRE                 4                   5559   \n",
       "5556           CVE           MITRE                 4                   5559   \n",
       "5557           CVE           MITRE                 4                   5559   \n",
       "5558           CVE           MITRE                 4                   5559   \n",
       "\n",
       "     CVE_data_timestamp                                          CVE_Items  \n",
       "0     2019-09-10T00:12Z  {'cve': {'data_type': 'CVE', 'data_format': 'M...  \n",
       "1     2019-09-10T00:12Z  {'cve': {'data_type': 'CVE', 'data_format': 'M...  \n",
       "2     2019-09-10T00:12Z  {'cve': {'data_type': 'CVE', 'data_format': 'M...  \n",
       "3     2019-09-10T00:12Z  {'cve': {'data_type': 'CVE', 'data_format': 'M...  \n",
       "4     2019-09-10T00:12Z  {'cve': {'data_type': 'CVE', 'data_format': 'M...  \n",
       "...                 ...                                                ...  \n",
       "5554  2019-09-10T00:12Z  {'cve': {'data_type': 'CVE', 'data_format': 'M...  \n",
       "5555  2019-09-10T00:12Z  {'cve': {'data_type': 'CVE', 'data_format': 'M...  \n",
       "5556  2019-09-10T00:12Z  {'cve': {'data_type': 'CVE', 'data_format': 'M...  \n",
       "5557  2019-09-10T00:12Z  {'cve': {'data_type': 'CVE', 'data_format': 'M...  \n",
       "5558  2019-09-10T00:12Z  {'cve': {'data_type': 'CVE', 'data_format': 'M...  \n",
       "\n",
       "[5559 rows x 6 columns]"
      ]
     },
     "execution_count": 88,
     "metadata": {},
     "output_type": "execute_result"
    }
   ],
   "source": [
    "nvd_12_df"
   ]
  },
  {
   "cell_type": "markdown",
   "metadata": {},
   "source": [
    "Almost all of the important information is contained in the `CVE_Items` field.\n",
    "\n",
    "Such as the published date of the vulnerability, contained within the json, as seen below:"
   ]
  },
  {
   "cell_type": "code",
   "execution_count": 90,
   "metadata": {},
   "outputs": [
    {
     "data": {
      "text/plain": [
       "'2012-03-13T21:55Z'"
      ]
     },
     "execution_count": 90,
     "metadata": {},
     "output_type": "execute_result"
    }
   ],
   "source": [
    "nvd_12_df['CVE_Items'][1]['publishedDate']"
   ]
  },
  {
   "cell_type": "markdown",
   "metadata": {},
   "source": [
    "Here we go through the rows, pulling out the date as a dateitme object, and assigning a new column to hold the value."
   ]
  },
  {
   "cell_type": "code",
   "execution_count": 91,
   "metadata": {},
   "outputs": [],
   "source": [
    "nvd_12_df['date'] = nvd_12_df['CVE_Items'].apply( lambda x: date_str_nvd(x['publishedDate']) )"
   ]
  },
  {
   "cell_type": "code",
   "execution_count": 96,
   "metadata": {},
   "outputs": [
    {
     "data": {
      "text/html": [
       "<div>\n",
       "<style scoped>\n",
       "    .dataframe tbody tr th:only-of-type {\n",
       "        vertical-align: middle;\n",
       "    }\n",
       "\n",
       "    .dataframe tbody tr th {\n",
       "        vertical-align: top;\n",
       "    }\n",
       "\n",
       "    .dataframe thead th {\n",
       "        text-align: right;\n",
       "    }\n",
       "</style>\n",
       "<table border=\"1\" class=\"dataframe\">\n",
       "  <thead>\n",
       "    <tr style=\"text-align: right;\">\n",
       "      <th></th>\n",
       "      <th>CVE_data_type</th>\n",
       "      <th>CVE_data_format</th>\n",
       "      <th>CVE_data_version</th>\n",
       "      <th>CVE_data_numberOfCVEs</th>\n",
       "      <th>CVE_data_timestamp</th>\n",
       "      <th>CVE_Items</th>\n",
       "      <th>date</th>\n",
       "    </tr>\n",
       "  </thead>\n",
       "  <tbody>\n",
       "    <tr>\n",
       "      <td>0</td>\n",
       "      <td>CVE</td>\n",
       "      <td>MITRE</td>\n",
       "      <td>4</td>\n",
       "      <td>5559</td>\n",
       "      <td>2019-09-10T00:12Z</td>\n",
       "      <td>{'cve': {'data_type': 'CVE', 'data_format': 'M...</td>\n",
       "      <td>2012-01-10 21:55:00</td>\n",
       "    </tr>\n",
       "    <tr>\n",
       "      <td>1</td>\n",
       "      <td>CVE</td>\n",
       "      <td>MITRE</td>\n",
       "      <td>4</td>\n",
       "      <td>5559</td>\n",
       "      <td>2019-09-10T00:12Z</td>\n",
       "      <td>{'cve': {'data_type': 'CVE', 'data_format': 'M...</td>\n",
       "      <td>2012-03-13 21:55:00</td>\n",
       "    </tr>\n",
       "    <tr>\n",
       "      <td>2</td>\n",
       "      <td>CVE</td>\n",
       "      <td>MITRE</td>\n",
       "      <td>4</td>\n",
       "      <td>5559</td>\n",
       "      <td>2019-09-10T00:12Z</td>\n",
       "      <td>{'cve': {'data_type': 'CVE', 'data_format': 'M...</td>\n",
       "      <td>2012-01-10 21:55:00</td>\n",
       "    </tr>\n",
       "    <tr>\n",
       "      <td>3</td>\n",
       "      <td>CVE</td>\n",
       "      <td>MITRE</td>\n",
       "      <td>4</td>\n",
       "      <td>5559</td>\n",
       "      <td>2019-09-10T00:12Z</td>\n",
       "      <td>{'cve': {'data_type': 'CVE', 'data_format': 'M...</td>\n",
       "      <td>2012-01-10 21:55:00</td>\n",
       "    </tr>\n",
       "    <tr>\n",
       "      <td>4</td>\n",
       "      <td>CVE</td>\n",
       "      <td>MITRE</td>\n",
       "      <td>4</td>\n",
       "      <td>5559</td>\n",
       "      <td>2019-09-10T00:12Z</td>\n",
       "      <td>{'cve': {'data_type': 'CVE', 'data_format': 'M...</td>\n",
       "      <td>2012-01-10 21:55:00</td>\n",
       "    </tr>\n",
       "    <tr>\n",
       "      <td>...</td>\n",
       "      <td>...</td>\n",
       "      <td>...</td>\n",
       "      <td>...</td>\n",
       "      <td>...</td>\n",
       "      <td>...</td>\n",
       "      <td>...</td>\n",
       "      <td>...</td>\n",
       "    </tr>\n",
       "    <tr>\n",
       "      <td>5554</td>\n",
       "      <td>CVE</td>\n",
       "      <td>MITRE</td>\n",
       "      <td>4</td>\n",
       "      <td>5559</td>\n",
       "      <td>2019-09-10T00:12Z</td>\n",
       "      <td>{'cve': {'data_type': 'CVE', 'data_format': 'M...</td>\n",
       "      <td>2019-08-21 18:15:00</td>\n",
       "    </tr>\n",
       "    <tr>\n",
       "      <td>5555</td>\n",
       "      <td>CVE</td>\n",
       "      <td>MITRE</td>\n",
       "      <td>4</td>\n",
       "      <td>5559</td>\n",
       "      <td>2019-09-10T00:12Z</td>\n",
       "      <td>{'cve': {'data_type': 'CVE', 'data_format': 'M...</td>\n",
       "      <td>2019-08-22 13:15:00</td>\n",
       "    </tr>\n",
       "    <tr>\n",
       "      <td>5556</td>\n",
       "      <td>CVE</td>\n",
       "      <td>MITRE</td>\n",
       "      <td>4</td>\n",
       "      <td>5559</td>\n",
       "      <td>2019-09-10T00:12Z</td>\n",
       "      <td>{'cve': {'data_type': 'CVE', 'data_format': 'M...</td>\n",
       "      <td>2019-08-28 12:15:00</td>\n",
       "    </tr>\n",
       "    <tr>\n",
       "      <td>5557</td>\n",
       "      <td>CVE</td>\n",
       "      <td>MITRE</td>\n",
       "      <td>4</td>\n",
       "      <td>5559</td>\n",
       "      <td>2019-09-10T00:12Z</td>\n",
       "      <td>{'cve': {'data_type': 'CVE', 'data_format': 'M...</td>\n",
       "      <td>2019-08-28 12:15:00</td>\n",
       "    </tr>\n",
       "    <tr>\n",
       "      <td>5558</td>\n",
       "      <td>CVE</td>\n",
       "      <td>MITRE</td>\n",
       "      <td>4</td>\n",
       "      <td>5559</td>\n",
       "      <td>2019-09-10T00:12Z</td>\n",
       "      <td>{'cve': {'data_type': 'CVE', 'data_format': 'M...</td>\n",
       "      <td>2019-08-28 12:15:00</td>\n",
       "    </tr>\n",
       "  </tbody>\n",
       "</table>\n",
       "<p>5559 rows × 7 columns</p>\n",
       "</div>"
      ],
      "text/plain": [
       "     CVE_data_type CVE_data_format  CVE_data_version  CVE_data_numberOfCVEs  \\\n",
       "0              CVE           MITRE                 4                   5559   \n",
       "1              CVE           MITRE                 4                   5559   \n",
       "2              CVE           MITRE                 4                   5559   \n",
       "3              CVE           MITRE                 4                   5559   \n",
       "4              CVE           MITRE                 4                   5559   \n",
       "...            ...             ...               ...                    ...   \n",
       "5554           CVE           MITRE                 4                   5559   \n",
       "5555           CVE           MITRE                 4                   5559   \n",
       "5556           CVE           MITRE                 4                   5559   \n",
       "5557           CVE           MITRE                 4                   5559   \n",
       "5558           CVE           MITRE                 4                   5559   \n",
       "\n",
       "     CVE_data_timestamp                                          CVE_Items  \\\n",
       "0     2019-09-10T00:12Z  {'cve': {'data_type': 'CVE', 'data_format': 'M...   \n",
       "1     2019-09-10T00:12Z  {'cve': {'data_type': 'CVE', 'data_format': 'M...   \n",
       "2     2019-09-10T00:12Z  {'cve': {'data_type': 'CVE', 'data_format': 'M...   \n",
       "3     2019-09-10T00:12Z  {'cve': {'data_type': 'CVE', 'data_format': 'M...   \n",
       "4     2019-09-10T00:12Z  {'cve': {'data_type': 'CVE', 'data_format': 'M...   \n",
       "...                 ...                                                ...   \n",
       "5554  2019-09-10T00:12Z  {'cve': {'data_type': 'CVE', 'data_format': 'M...   \n",
       "5555  2019-09-10T00:12Z  {'cve': {'data_type': 'CVE', 'data_format': 'M...   \n",
       "5556  2019-09-10T00:12Z  {'cve': {'data_type': 'CVE', 'data_format': 'M...   \n",
       "5557  2019-09-10T00:12Z  {'cve': {'data_type': 'CVE', 'data_format': 'M...   \n",
       "5558  2019-09-10T00:12Z  {'cve': {'data_type': 'CVE', 'data_format': 'M...   \n",
       "\n",
       "                    date  \n",
       "0    2012-01-10 21:55:00  \n",
       "1    2012-03-13 21:55:00  \n",
       "2    2012-01-10 21:55:00  \n",
       "3    2012-01-10 21:55:00  \n",
       "4    2012-01-10 21:55:00  \n",
       "...                  ...  \n",
       "5554 2019-08-21 18:15:00  \n",
       "5555 2019-08-22 13:15:00  \n",
       "5556 2019-08-28 12:15:00  \n",
       "5557 2019-08-28 12:15:00  \n",
       "5558 2019-08-28 12:15:00  \n",
       "\n",
       "[5559 rows x 7 columns]"
      ]
     },
     "execution_count": 96,
     "metadata": {},
     "output_type": "execute_result"
    }
   ],
   "source": [
    "nvd_12_df"
   ]
  },
  {
   "cell_type": "code",
   "execution_count": 94,
   "metadata": {},
   "outputs": [],
   "source": [
    "vulns_per_hour = (nvd_12_df[['date','CVE_data_type']].set_index('date').resample('H').count()).rename(columns={'CVE_data_type':'count'})"
   ]
  },
  {
   "cell_type": "code",
   "execution_count": 95,
   "metadata": {},
   "outputs": [
    {
     "data": {
      "text/plain": [
       "<matplotlib.axes._subplots.AxesSubplot at 0x3a35e6f0>"
      ]
     },
     "execution_count": 95,
     "metadata": {},
     "output_type": "execute_result"
    },
    {
     "data": {
      "image/png": "[encoded data removed]",
      "text/plain": [
       "<Figure size 1152x648 with 1 Axes>"
      ]
     },
     "metadata": {
      "needs_background": "light"
     },
     "output_type": "display_data"
    }
   ],
   "source": [
    "vulns_per_hour.plot()"
   ]
  },
  {
   "cell_type": "markdown",
   "metadata": {},
   "source": [
    "Huh... it looks like the NVD dataset has vlnerabilites from 2012 to 2019 ? Uh, sure"
   ]
  },
  {
   "cell_type": "markdown",
   "metadata": {},
   "source": [
    "Next step is to fish out the severe vulnerabilities, and see if the release date closesly predicts an increase in releases."
   ]
  },
  {
   "cell_type": "code",
   "execution_count": null,
   "metadata": {},
   "outputs": [],
   "source": []
  }
 ],
 "metadata": {
  "kernelspec": {
   "display_name": "Python 3",
   "language": "python",
   "name": "python3"
  },
  "language_info": {
   "codemirror_mode": {
    "name": "ipython",
    "version": 3
   },
   "file_extension": ".py",
   "mimetype": "text/x-python",
   "name": "python",
   "nbconvert_exporter": "python",
   "pygments_lexer": "ipython3",
   "version": "3.7.3"
  }
 },
 "nbformat": 4,
 "nbformat_minor": 2
}
