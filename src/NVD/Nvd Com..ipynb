{
 "cells": [
  {
   "cell_type": "markdown",
   "metadata": {},
   "source": [
    "## Test File"
   ]
  },
  {
   "cell_type": "code",
   "execution_count": null,
   "metadata": {},
   "outputs": [],
   "source": [
    "import pandas as pa\n",
    "import datetime as dt\n",
    "import numpy as np\n",
    "import glob"
   ]
  },
  {
   "cell_type": "code",
   "execution_count": 17,
   "metadata": {},
   "outputs": [],
   "source": [
    "file = '../../data/nvd-hashs/'"
   ]
  },
  {
   "cell_type": "code",
   "execution_count": 18,
   "metadata": {},
   "outputs": [],
   "source": [
    "allcves = glob.glob(file+'*.csv')"
   ]
  },
  {
   "cell_type": "code",
   "execution_count": 21,
   "metadata": {},
   "outputs": [],
   "source": [
    "allcves = glob.glob(file+'*.csv')\n",
    "l = []\n",
    "for filename in allcves:\n",
    "    df = pa.read_csv(filename)\n",
    "    l.append(df)\n",
    "data = pa.concat(l, ignore_index=True)"
   ]
  },
  {
   "cell_type": "code",
   "execution_count": 28,
   "metadata": {},
   "outputs": [],
   "source": [
    "data['publishedDate'] = pa.to_datetime(data['publishedDate'])"
   ]
  },
  {
   "cell_type": "code",
   "execution_count": 32,
   "metadata": {},
   "outputs": [
    {
     "data": {
      "text/plain": [
       "(6040, 6)"
      ]
     },
     "execution_count": 32,
     "metadata": {},
     "output_type": "execute_result"
    }
   ],
   "source": [
    "data.shape"
   ]
  },
  {
   "cell_type": "code",
   "execution_count": 29,
   "metadata": {},
   "outputs": [
    {
     "data": {
      "text/html": [
       "<div>\n",
       "<style scoped>\n",
       "    .dataframe tbody tr th:only-of-type {\n",
       "        vertical-align: middle;\n",
       "    }\n",
       "\n",
       "    .dataframe tbody tr th {\n",
       "        vertical-align: top;\n",
       "    }\n",
       "\n",
       "    .dataframe thead th {\n",
       "        text-align: right;\n",
       "    }\n",
       "</style>\n",
       "<table border=\"1\" class=\"dataframe\">\n",
       "  <thead>\n",
       "    <tr style=\"text-align: right;\">\n",
       "      <th></th>\n",
       "      <th>cveid</th>\n",
       "      <th>year</th>\n",
       "      <th>hash</th>\n",
       "      <th>desc</th>\n",
       "      <th>link</th>\n",
       "      <th>publishedDate</th>\n",
       "    </tr>\n",
       "  </thead>\n",
       "  <tbody>\n",
       "    <tr>\n",
       "      <td>0</td>\n",
       "      <td>1145</td>\n",
       "      <td>2009.0</td>\n",
       "      <td>4de30e5500eaeb49f4bf0b7a07f718e149a2ed5e</td>\n",
       "      <td>Integer overflow in the pango_glyph_string_set...</td>\n",
       "      <td>http://github.com/bratsche/pango/commit/4de30e...</td>\n",
       "      <td>2009-05-11 15:30:00+00:00</td>\n",
       "    </tr>\n",
       "    <tr>\n",
       "      <td>1</td>\n",
       "      <td>3002</td>\n",
       "      <td>2009.0</td>\n",
       "      <td>860cad9e02ba344edb0038419e415fe05a9a01f4</td>\n",
       "      <td>The rad_decode function in FreeRADIUS before 1...</td>\n",
       "      <td>http://github.com/alandekok/freeradius-server/...</td>\n",
       "      <td>2009-09-09 18:30:00+00:00</td>\n",
       "    </tr>\n",
       "    <tr>\n",
       "      <td>2</td>\n",
       "      <td>3177</td>\n",
       "      <td>2009.0</td>\n",
       "      <td>7bd027914c5ffd36bb408ef47dc749de3b6e063a</td>\n",
       "      <td>lib/thin/connection.rb in Thin web server befo...</td>\n",
       "      <td>http://github.com/macournoyer/thin/commit/7bd0...</td>\n",
       "      <td>2009-09-22 10:30:00+00:00</td>\n",
       "    </tr>\n",
       "    <tr>\n",
       "      <td>3</td>\n",
       "      <td>3513</td>\n",
       "      <td>2009.0</td>\n",
       "      <td>b9aae1e43eb2c8e989510187cff0ba3e996f9a4c</td>\n",
       "      <td>The decode_entities function in util.c in HTML...</td>\n",
       "      <td>http://github.com/gisle/html-parser/commit/b9a...</td>\n",
       "      <td>2009-10-29 14:30:00+00:00</td>\n",
       "    </tr>\n",
       "    <tr>\n",
       "      <td>4</td>\n",
       "      <td>4070</td>\n",
       "      <td>2009.0</td>\n",
       "      <td>bfe032858077bb2946abe25e95e485ba6da86bd5</td>\n",
       "      <td>Cross-site scripting (XSS) vulnerability in th...</td>\n",
       "      <td>http://github.com/rails/rails/commit/bfe032858...</td>\n",
       "      <td>2009-12-07 17:30:00+00:00</td>\n",
       "    </tr>\n",
       "  </tbody>\n",
       "</table>\n",
       "</div>"
      ],
      "text/plain": [
       "  cveid    year                                      hash  \\\n",
       "0  1145  2009.0  4de30e5500eaeb49f4bf0b7a07f718e149a2ed5e   \n",
       "1  3002  2009.0  860cad9e02ba344edb0038419e415fe05a9a01f4   \n",
       "2  3177  2009.0  7bd027914c5ffd36bb408ef47dc749de3b6e063a   \n",
       "3  3513  2009.0  b9aae1e43eb2c8e989510187cff0ba3e996f9a4c   \n",
       "4  4070  2009.0  bfe032858077bb2946abe25e95e485ba6da86bd5   \n",
       "\n",
       "                                                desc  \\\n",
       "0  Integer overflow in the pango_glyph_string_set...   \n",
       "1  The rad_decode function in FreeRADIUS before 1...   \n",
       "2  lib/thin/connection.rb in Thin web server befo...   \n",
       "3  The decode_entities function in util.c in HTML...   \n",
       "4  Cross-site scripting (XSS) vulnerability in th...   \n",
       "\n",
       "                                                link             publishedDate  \n",
       "0  http://github.com/bratsche/pango/commit/4de30e... 2009-05-11 15:30:00+00:00  \n",
       "1  http://github.com/alandekok/freeradius-server/... 2009-09-09 18:30:00+00:00  \n",
       "2  http://github.com/macournoyer/thin/commit/7bd0... 2009-09-22 10:30:00+00:00  \n",
       "3  http://github.com/gisle/html-parser/commit/b9a... 2009-10-29 14:30:00+00:00  \n",
       "4  http://github.com/rails/rails/commit/bfe032858... 2009-12-07 17:30:00+00:00  "
      ]
     },
     "execution_count": 29,
     "metadata": {},
     "output_type": "execute_result"
    }
   ],
   "source": [
    "data.head()"
   ]
  },
  {
   "cell_type": "code",
   "execution_count": 162,
   "metadata": {},
   "outputs": [],
   "source": [
    "link = data.link.iloc[1]"
   ]
  },
  {
   "cell_type": "code",
   "execution_count": 163,
   "metadata": {},
   "outputs": [
    {
     "data": {
      "text/plain": [
       "'http://github.com/alandekok/freeradius-server/commit/860cad9e02ba344edb0038419e415fe05a9a01f4'"
      ]
     },
     "execution_count": 163,
     "metadata": {},
     "output_type": "execute_result"
    }
   ],
   "source": [
    "link"
   ]
  },
  {
   "cell_type": "code",
   "execution_count": 129,
   "metadata": {},
   "outputs": [],
   "source": [
    "from html.parser import HTMLParser\n",
    "from urllib import parse"
   ]
  },
  {
   "cell_type": "code",
   "execution_count": 112,
   "metadata": {},
   "outputs": [],
   "source": [
    "\n",
    "from html.parser import HTMLParser\n",
    "from urllib import parse\n",
    "from urllib.request import urlopen\n",
    "class Link(HTMLParser):\n",
    "    def __init__(self,base_url,page_url):\n",
    "        super().__init__()\n",
    "        self.base_url = base_url\n",
    "        self.page_url = page_url\n",
    "        self.links = set()\n",
    "\n",
    "    def handle_starttag(self,tag,attrs):\n",
    "        if tag == 'a':\n",
    "            for attribute,value in attrs:\n",
    "                \n",
    "                if attribute == 'href'  :\n",
    "                    url = parse.urljoin(self.base_url,value)\n",
    "                    self.links.add(url)\n",
    "    def page_link(self):\n",
    "        return self.links\n",
    "\n",
    "\n",
    "def html_link(page_url=link):\n",
    "    html_string = ''\n",
    "    try:\n",
    "        response = urlopen(page_url)\n",
    "        html_bytes = response.read()\n",
    "        html_string = html_bytes.decode('utf-8')\n",
    "        return html_string\n",
    "        find = Link(base_url='www.github.com/',page_url=page_url)\n",
    "        f = find.feed(html_string)\n",
    "        return list(find.page_link())\n",
    "    except Exception as e:\n",
    "        print('Error can\\'t crawl the page.')\n",
    "        print(e)"
   ]
  },
  {
   "cell_type": "code",
   "execution_count": 159,
   "metadata": {},
   "outputs": [],
   "source": [
    "from bs4 import BeautifulSoup\n",
    "from urllib.request import urlopen\n",
    "from lxml import html\n",
    "\n",
    "url = 'https://github.com/macournoyer/thin/releases/tag/v1.2.3'\n",
    "page = html.fromstring(urlopen(url).read())\n",
    "\n",
    "soup = BeautifulSoup(urlopen(url).read(), 'html.parser')"
   ]
  },
  {
   "cell_type": "code",
   "execution_count": 161,
   "metadata": {},
   "outputs": [
    {
     "data": {
      "text/plain": [
       "[<relative-time class=\"no-wrap\" datetime=\"2009-09-06T02:49:07Z\">Sep 6, 2009</relative-time>]"
      ]
     },
     "execution_count": 161,
     "metadata": {},
     "output_type": "execute_result"
    }
   ],
   "source": [
    "soup.findAll('relative-time')"
   ]
  },
  {
   "cell_type": "code",
   "execution_count": 151,
   "metadata": {},
   "outputs": [],
   "source": [
    "find = Link(base_url='www.github.com/',page_url=url)\n",
    "f = find.feed(urlopen(url).read().decode('utf-8'))"
   ]
  },
  {
   "cell_type": "code",
   "execution_count": 152,
   "metadata": {},
   "outputs": [
    {
     "data": {
      "text/plain": [
       "{'/collections',\n",
       " '/customer-stories',\n",
       " '/enterprise',\n",
       " '/explore',\n",
       " '/features',\n",
       " '/features#code-hosting',\n",
       " '/features#documentation',\n",
       " '/features#social-coding',\n",
       " '/features#team-management',\n",
       " '/features/actions',\n",
       " '/features/code-review/',\n",
       " '/features/integrations',\n",
       " '/features/package-registry',\n",
       " '/features/project-management/',\n",
       " '/features/security',\n",
       " '/join?source=header-repo',\n",
       " '/join?source=header-repo&source_repo=macournoyer%2Fthin',\n",
       " '/join?source=prompt-releases-show',\n",
       " '/login?return_to=%2Fmacournoyer%2Fthin',\n",
       " '/login?return_to=%2Fmacournoyer%2Fthin%2Freleases%2Ftag%2Fv1.2.3',\n",
       " '/macournoyer',\n",
       " '/macournoyer/thin',\n",
       " '/macournoyer/thin/archive/v1.2.3.tar.gz',\n",
       " '/macournoyer/thin/archive/v1.2.3.zip',\n",
       " '/macournoyer/thin/commit/4ad001ceab5f8e2142e0a66906889e32263880f0',\n",
       " '/macournoyer/thin/compare/v1.2.3...master',\n",
       " '/macournoyer/thin/issues',\n",
       " '/macournoyer/thin/network/members',\n",
       " '/macournoyer/thin/projects',\n",
       " '/macournoyer/thin/pulls',\n",
       " '/macournoyer/thin/pulse',\n",
       " '/macournoyer/thin/releases',\n",
       " '/macournoyer/thin/releases/tag/v1.2.3',\n",
       " '/macournoyer/thin/security/advisories',\n",
       " '/macournoyer/thin/stargazers',\n",
       " '/macournoyer/thin/tags',\n",
       " '/macournoyer/thin/tree/v1.2.3',\n",
       " '/macournoyer/thin/watchers',\n",
       " '/marketplace',\n",
       " '/nonprofit',\n",
       " '/pricing',\n",
       " '/pricing#feature-comparison',\n",
       " '/security',\n",
       " '/topics',\n",
       " '/trending',\n",
       " 'https://developer.github.com',\n",
       " 'https://education.github.com',\n",
       " 'https://enterprise.github.com/contact',\n",
       " 'https://github.blog',\n",
       " 'https://github.com',\n",
       " 'https://github.com/',\n",
       " 'https://github.com/about',\n",
       " 'https://github.com/contact',\n",
       " 'https://github.com/events',\n",
       " 'https://github.com/pricing',\n",
       " 'https://github.com/security',\n",
       " 'https://github.com/site/privacy',\n",
       " 'https://github.com/site/terms',\n",
       " 'https://github.community',\n",
       " 'https://githubstatus.com/',\n",
       " 'https://help.github.com',\n",
       " 'https://lab.github.com/',\n",
       " 'https://opensource.guide',\n",
       " 'https://training.github.com',\n",
       " 'www.github.com/',\n",
       " 'www.github.com/#start-of-content'}"
      ]
     },
     "execution_count": 152,
     "metadata": {},
     "output_type": "execute_result"
    }
   ],
   "source": []
  },
  {
   "cell_type": "code",
   "execution_count": null,
   "metadata": {},
   "outputs": [],
   "source": []
  }
 ],
 "metadata": {
  "kernelspec": {
   "display_name": "Python 3",
   "language": "python",
   "name": "python3"
  },
  "language_info": {
   "codemirror_mode": {
    "name": "ipython",
    "version": 3
   },
   "file_extension": ".py",
   "mimetype": "text/x-python",
   "name": "python",
   "nbconvert_exporter": "python",
   "pygments_lexer": "ipython3",
   "version": "3.7.4"
  }
 },
 "nbformat": 4,
 "nbformat_minor": 2
}
