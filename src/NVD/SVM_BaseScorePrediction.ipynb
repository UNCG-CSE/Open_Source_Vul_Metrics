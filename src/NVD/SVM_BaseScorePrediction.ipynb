{
 "cells": [
  {
   "cell_type": "markdown",
   "metadata": {},
   "source": [
    "# Project Review 3\n",
    "\n",
    "# Support Vector Machines Regression, Predicting Base Count based on given cvssV2 Values\n",
    "\n",
    "# Jaron Dunham"
   ]
  },
  {
   "cell_type": "markdown",
   "metadata": {},
   "source": [
    "## Import Files"
   ]
  },
  {
   "cell_type": "code",
   "execution_count": 1,
   "metadata": {},
   "outputs": [],
   "source": [
    "import json \n",
    "import numpy as np\n",
    "import matplotlib.pyplot as plt\n",
    "import pandas as pd\n",
    "#from fig_code.figures import *\n",
    "from sklearn.linear_model import LinearRegression\n",
    "from pandas.io.json import json_normalize\n",
    "\n",
    "with open(\"nvdcve-1.1-recent.json\") as f:\n",
    "    d = json.load(f)"
   ]
  },
  {
   "cell_type": "code",
   "execution_count": 2,
   "metadata": {},
   "outputs": [],
   "source": [
    "nvd_file_type = '.json'"
   ]
  },
  {
   "cell_type": "markdown",
   "metadata": {},
   "source": [
    "## Obtain nessesary columns"
   ]
  },
  {
   "cell_type": "code",
   "execution_count": 3,
   "metadata": {},
   "outputs": [],
   "source": [
    "#def import_nvd(nvd_start=2, nvd_end=20):\n",
    "def import_nvd(nvd_start=18, nvd_end=20):    \n",
    "    for i in range(nvd_start,nvd_end):\n",
    "        \n",
    "        year = '20'+str(i).zfill(2)\n",
    "        path = 'nvdcve-1.1-'+year+nvd_file_type\n",
    "        \n",
    "        if (year != \"2010\"):\n",
    "            if (year != \"2014\"):\n",
    "                with open(path) as f:\n",
    "                    d = json.load(f)\n",
    "            \n",
    "        CVE = json_normalize(d[\"CVE_Items\"]) \n",
    "        newCVE = CVE[['impact.baseMetricV2.cvssV2.version',\n",
    "                      'impact.baseMetricV2.cvssV2.vectorString',\n",
    "                      'impact.baseMetricV2.cvssV2.accessVector',\n",
    "                      'impact.baseMetricV2.cvssV2.accessComplexity',\n",
    "                      'impact.baseMetricV2.cvssV2.authentication',\n",
    "                      'impact.baseMetricV2.cvssV2.confidentialityImpact',\n",
    "                      'impact.baseMetricV2.cvssV2.integrityImpact',\n",
    "                      'impact.baseMetricV2.cvssV2.availabilityImpact',\n",
    "                      'impact.baseMetricV2.cvssV2.baseScore',]]\n",
    "        \n",
    "    return newCVE"
   ]
  },
  {
   "cell_type": "markdown",
   "metadata": {},
   "source": [
    "## Rename Columns"
   ]
  },
  {
   "cell_type": "code",
   "execution_count": 4,
   "metadata": {},
   "outputs": [],
   "source": [
    "CVE = import_nvd()\n",
    "\n",
    "for col in CVE.columns: \n",
    "    newCol = col[27:]\n",
    "    CVE.rename(columns = {col:newCol}, inplace = True) "
   ]
  },
  {
   "cell_type": "markdown",
   "metadata": {},
   "source": [
    "## Process Data"
   ]
  },
  {
   "cell_type": "code",
   "execution_count": 5,
   "metadata": {},
   "outputs": [
    {
     "name": "stdout",
     "output_type": "stream",
     "text": [
      "<bound method NDFrame.keys of   version                vectorString accessVector accessComplexity  \\\n",
      "0     2.0  AV:N/AC:M/Au:N/C:N/I:N/A:C      NETWORK           MEDIUM   \n",
      "1     2.0  AV:N/AC:L/Au:N/C:P/I:P/A:P      NETWORK              LOW   \n",
      "2     2.0  AV:N/AC:M/Au:N/C:N/I:N/A:P      NETWORK           MEDIUM   \n",
      "3     2.0  AV:L/AC:L/Au:N/C:P/I:N/A:N        LOCAL              LOW   \n",
      "4     2.0  AV:N/AC:L/Au:N/C:N/I:P/A:N      NETWORK              LOW   \n",
      "\n",
      "  authentication confidentialityImpact integrityImpact availabilityImpact  \\\n",
      "0           NONE                  NONE            NONE           COMPLETE   \n",
      "1           NONE               PARTIAL         PARTIAL            PARTIAL   \n",
      "2           NONE                  NONE            NONE            PARTIAL   \n",
      "3           NONE               PARTIAL            NONE               NONE   \n",
      "4           NONE                  NONE         PARTIAL               NONE   \n",
      "\n",
      "   baseScore  \n",
      "0        7.1  \n",
      "1        7.5  \n",
      "2        4.3  \n",
      "3        2.1  \n",
      "4        5.0  >\n"
     ]
    }
   ],
   "source": [
    "print(CVE.head(5).keys)"
   ]
  },
  {
   "cell_type": "markdown",
   "metadata": {},
   "source": [
    "Any rows with nan values have been removed and Base Score has been moved to its own dataframe"
   ]
  },
  {
   "cell_type": "code",
   "execution_count": 6,
   "metadata": {},
   "outputs": [],
   "source": [
    "CVE = CVE.dropna()\n",
    "a = CVE.iloc[:,:-1] #all but base score\n",
    "b = CVE.iloc[:,8:] #only base score"
   ]
  },
  {
   "cell_type": "code",
   "execution_count": 7,
   "metadata": {},
   "outputs": [
    {
     "name": "stdout",
     "output_type": "stream",
     "text": [
      "  version                vectorString accessVector accessComplexity  \\\n",
      "0     2.0  AV:N/AC:M/Au:N/C:N/I:N/A:C      NETWORK           MEDIUM   \n",
      "1     2.0  AV:N/AC:L/Au:N/C:P/I:P/A:P      NETWORK              LOW   \n",
      "2     2.0  AV:N/AC:M/Au:N/C:N/I:N/A:P      NETWORK           MEDIUM   \n",
      "3     2.0  AV:L/AC:L/Au:N/C:P/I:N/A:N        LOCAL              LOW   \n",
      "4     2.0  AV:N/AC:L/Au:N/C:N/I:P/A:N      NETWORK              LOW   \n",
      "\n",
      "  authentication confidentialityImpact integrityImpact availabilityImpact  \n",
      "0           NONE                  NONE            NONE           COMPLETE  \n",
      "1           NONE               PARTIAL         PARTIAL            PARTIAL  \n",
      "2           NONE                  NONE            NONE            PARTIAL  \n",
      "3           NONE               PARTIAL            NONE               NONE  \n",
      "4           NONE                  NONE         PARTIAL               NONE  \n"
     ]
    }
   ],
   "source": [
    "print(a.head(5))"
   ]
  },
  {
   "cell_type": "code",
   "execution_count": 8,
   "metadata": {},
   "outputs": [
    {
     "name": "stdout",
     "output_type": "stream",
     "text": [
      "   baseScore\n",
      "0        7.1\n",
      "1        7.5\n",
      "2        4.3\n",
      "3        2.1\n",
      "4        5.0\n"
     ]
    }
   ],
   "source": [
    "print(b.head(5))"
   ]
  },
  {
   "cell_type": "markdown",
   "metadata": {},
   "source": [
    "We will be converting any columns with strings into integers, this is done get the total amount of unique strings and then giving them all a different number to be assosiated by"
   ]
  },
  {
   "cell_type": "code",
   "execution_count": 9,
   "metadata": {},
   "outputs": [],
   "source": [
    "def toNumbers(columnName,column,cve):\n",
    "    for x in range(len(column)):\n",
    "        #column[x] = x\n",
    "        #print(\"X: \" + str(x) + \" - Variable: \" + str(column[x]))\n",
    "        cve[columnName] = cve[columnName].replace(column[x],int(x)) \n",
    "    return cve"
   ]
  },
  {
   "cell_type": "code",
   "execution_count": 10,
   "metadata": {
    "scrolled": true
   },
   "outputs": [
    {
     "name": "stdout",
     "output_type": "stream",
     "text": [
      "['version', 'vectorString', 'accessVector', 'accessComplexity', 'authentication', 'confidentialityImpact', 'integrityImpact', 'availabilityImpact']\n"
     ]
    }
   ],
   "source": [
    "columns = list(a.columns) \n",
    "print(columns)\n",
    "version = CVE.version.unique()\n",
    "vectorString = CVE.vectorString.unique()\n",
    "accessVector = CVE.accessVector.unique()\n",
    "accessComplexity = CVE.accessComplexity.unique()\n",
    "authentication = CVE.authentication.unique()\n",
    "confidentialityImpact = CVE.confidentialityImpact.unique()\n",
    "integrityImpact = CVE.integrityImpact.unique()\n",
    "availabilityImpact = CVE.availabilityImpact.unique()\n",
    "a = toNumbers(columns[0],version,a)\n",
    "a = toNumbers(columns[1],vectorString,a)\n",
    "a = toNumbers(columns[2],accessVector,a)\n",
    "a = toNumbers(columns[3],accessComplexity,a)\n",
    "a = toNumbers(columns[4],authentication,a)\n",
    "a = toNumbers(columns[5],confidentialityImpact,a)\n",
    "a = toNumbers(columns[6],integrityImpact,a)\n",
    "a = toNumbers(columns[7],availabilityImpact,a)"
   ]
  },
  {
   "cell_type": "code",
   "execution_count": 11,
   "metadata": {},
   "outputs": [
    {
     "data": {
      "text/html": [
       "<div>\n",
       "<style scoped>\n",
       "    .dataframe tbody tr th:only-of-type {\n",
       "        vertical-align: middle;\n",
       "    }\n",
       "\n",
       "    .dataframe tbody tr th {\n",
       "        vertical-align: top;\n",
       "    }\n",
       "\n",
       "    .dataframe thead th {\n",
       "        text-align: right;\n",
       "    }\n",
       "</style>\n",
       "<table border=\"1\" class=\"dataframe\">\n",
       "  <thead>\n",
       "    <tr style=\"text-align: right;\">\n",
       "      <th></th>\n",
       "      <th>version</th>\n",
       "      <th>vectorString</th>\n",
       "      <th>accessVector</th>\n",
       "      <th>accessComplexity</th>\n",
       "      <th>authentication</th>\n",
       "      <th>confidentialityImpact</th>\n",
       "      <th>integrityImpact</th>\n",
       "      <th>availabilityImpact</th>\n",
       "    </tr>\n",
       "  </thead>\n",
       "  <tbody>\n",
       "    <tr>\n",
       "      <th>0</th>\n",
       "      <td>0</td>\n",
       "      <td>0</td>\n",
       "      <td>0</td>\n",
       "      <td>0</td>\n",
       "      <td>0</td>\n",
       "      <td>0</td>\n",
       "      <td>0</td>\n",
       "      <td>0</td>\n",
       "    </tr>\n",
       "    <tr>\n",
       "      <th>1</th>\n",
       "      <td>0</td>\n",
       "      <td>1</td>\n",
       "      <td>0</td>\n",
       "      <td>1</td>\n",
       "      <td>0</td>\n",
       "      <td>1</td>\n",
       "      <td>1</td>\n",
       "      <td>1</td>\n",
       "    </tr>\n",
       "    <tr>\n",
       "      <th>2</th>\n",
       "      <td>0</td>\n",
       "      <td>2</td>\n",
       "      <td>0</td>\n",
       "      <td>0</td>\n",
       "      <td>0</td>\n",
       "      <td>0</td>\n",
       "      <td>0</td>\n",
       "      <td>1</td>\n",
       "    </tr>\n",
       "    <tr>\n",
       "      <th>3</th>\n",
       "      <td>0</td>\n",
       "      <td>3</td>\n",
       "      <td>1</td>\n",
       "      <td>1</td>\n",
       "      <td>0</td>\n",
       "      <td>1</td>\n",
       "      <td>0</td>\n",
       "      <td>2</td>\n",
       "    </tr>\n",
       "    <tr>\n",
       "      <th>4</th>\n",
       "      <td>0</td>\n",
       "      <td>4</td>\n",
       "      <td>0</td>\n",
       "      <td>1</td>\n",
       "      <td>0</td>\n",
       "      <td>0</td>\n",
       "      <td>1</td>\n",
       "      <td>2</td>\n",
       "    </tr>\n",
       "  </tbody>\n",
       "</table>\n",
       "</div>"
      ],
      "text/plain": [
       "   version  vectorString  accessVector  accessComplexity  authentication  \\\n",
       "0        0             0             0                 0               0   \n",
       "1        0             1             0                 1               0   \n",
       "2        0             2             0                 0               0   \n",
       "3        0             3             1                 1               0   \n",
       "4        0             4             0                 1               0   \n",
       "\n",
       "   confidentialityImpact  integrityImpact  availabilityImpact  \n",
       "0                      0                0                   0  \n",
       "1                      1                1                   1  \n",
       "2                      0                0                   1  \n",
       "3                      1                0                   2  \n",
       "4                      0                1                   2  "
      ]
     },
     "execution_count": 11,
     "metadata": {},
     "output_type": "execute_result"
    }
   ],
   "source": [
    "a.head()"
   ]
  },
  {
   "cell_type": "code",
   "execution_count": 12,
   "metadata": {},
   "outputs": [],
   "source": [
    "testA = a.iloc[:8000,:]\n",
    "testB = b.iloc[:8000,:]"
   ]
  },
  {
   "cell_type": "code",
   "execution_count": 13,
   "metadata": {},
   "outputs": [
    {
     "data": {
      "text/plain": [
       "(8000, 1)"
      ]
     },
     "execution_count": 13,
     "metadata": {},
     "output_type": "execute_result"
    }
   ],
   "source": [
    "testB.shape"
   ]
  },
  {
   "cell_type": "code",
   "execution_count": 14,
   "metadata": {},
   "outputs": [
    {
     "data": {
      "text/plain": [
       "(8000, 8)"
      ]
     },
     "execution_count": 14,
     "metadata": {},
     "output_type": "execute_result"
    }
   ],
   "source": [
    "testA.shape"
   ]
  },
  {
   "cell_type": "markdown",
   "metadata": {},
   "source": [
    "Simple plot to see if there is any visible corolation "
   ]
  },
  {
   "cell_type": "code",
   "execution_count": 15,
   "metadata": {},
   "outputs": [
    {
     "data": {
      "text/plain": [
       "[<matplotlib.lines.Line2D at 0x1a44ec4b630>,\n",
       " <matplotlib.lines.Line2D at 0x1a44ec4b7b8>,\n",
       " <matplotlib.lines.Line2D at 0x1a44ec4b908>,\n",
       " <matplotlib.lines.Line2D at 0x1a44ec4ba58>,\n",
       " <matplotlib.lines.Line2D at 0x1a44ec3fe80>,\n",
       " <matplotlib.lines.Line2D at 0x1a44ec3fe48>,\n",
       " <matplotlib.lines.Line2D at 0x1a44ec3f160>,\n",
       " <matplotlib.lines.Line2D at 0x1a44ec3f2e8>]"
      ]
     },
     "execution_count": 15,
     "metadata": {},
     "output_type": "execute_result"
    },
    {
     "data": {
      "image/png": "[encoded data removed]",
      "text/plain": [
       "<Figure size 432x288 with 1 Axes>"
      ]
     },
     "metadata": {
      "needs_background": "light"
     },
     "output_type": "display_data"
    }
   ],
   "source": [
    "plt.plot(testA,testB,'o')"
   ]
  },
  {
   "cell_type": "markdown",
   "metadata": {},
   "source": [
    "For my machine learning, I used a type of Regression called Support Vector Machines  "
   ]
  },
  {
   "cell_type": "code",
   "execution_count": 17,
   "metadata": {},
   "outputs": [],
   "source": [
    "from sklearn import svm"
   ]
  },
  {
   "cell_type": "code",
   "execution_count": 18,
   "metadata": {},
   "outputs": [
    {
     "name": "stderr",
     "output_type": "stream",
     "text": [
      "C:\\Users\\Chase\\Anaconda3\\lib\\site-packages\\sklearn\\utils\\validation.py:724: DataConversionWarning: A column-vector y was passed when a 1d array was expected. Please change the shape of y to (n_samples, ), for example using ravel().\n",
      "  y = column_or_1d(y, warn=True)\n",
      "C:\\Users\\Chase\\Anaconda3\\lib\\site-packages\\sklearn\\svm\\base.py:193: FutureWarning: The default value of gamma will change from 'auto' to 'scale' in version 0.22 to account better for unscaled features. Set gamma explicitly to 'auto' or 'scale' to avoid this warning.\n",
      "  \"avoid this warning.\", FutureWarning)\n"
     ]
    },
    {
     "data": {
      "text/plain": [
       "SVR(C=1.0, cache_size=200, coef0=0.0, degree=3, epsilon=0.1,\n",
       "    gamma='auto_deprecated', kernel='rbf', max_iter=-1, shrinking=True,\n",
       "    tol=0.001, verbose=False)"
      ]
     },
     "execution_count": 18,
     "metadata": {},
     "output_type": "execute_result"
    }
   ],
   "source": [
    "clf = svm.SVR()\n",
    ">>> clf.fit(testA, testB) "
   ]
  },
  {
   "cell_type": "markdown",
   "metadata": {},
   "source": [
    "Now we can put in an input to see if we can predict an output"
   ]
  },
  {
   "cell_type": "code",
   "execution_count": 21,
   "metadata": {},
   "outputs": [
    {
     "name": "stdout",
     "output_type": "stream",
     "text": [
      "[[0.0, 0, 0.0, 0, 0, 0, 0, 0.0]] [6.99966869]\n"
     ]
    }
   ],
   "source": [
    "new_input = [[0.0 ,0 ,0.0 ,0 ,0 ,0,0 ,0.0]]\n",
    "new_output = clf.predict(new_input)\n",
    "print(new_input, new_output)"
   ]
  },
  {
   "cell_type": "code",
   "execution_count": 20,
   "metadata": {},
   "outputs": [
    {
     "name": "stdout",
     "output_type": "stream",
     "text": [
      "[[0.0, 1, 0.0, 1, 0, 1, 1, 1.0]] [7.39992293]\n"
     ]
    }
   ],
   "source": [
    "new_input = [[0.0 ,1 ,0.0 ,1 ,0 ,1,1 ,1.0]]\n",
    "new_output = clf.predict(new_input)\n",
    "print(new_input, new_output)"
   ]
  },
  {
   "cell_type": "code",
   "execution_count": 22,
   "metadata": {},
   "outputs": [
    {
     "name": "stdout",
     "output_type": "stream",
     "text": [
      "[[0.0, 2, 0.0, 0, 0, 0, 0, 1.0]] [4.40002353]\n"
     ]
    }
   ],
   "source": [
    "new_input = [[0.0 ,2 ,0.0 ,0 ,0 ,0,0 ,1.0]]\n",
    "new_output = clf.predict(new_input)\n",
    "print(new_input, new_output)"
   ]
  },
  {
   "cell_type": "code",
   "execution_count": 23,
   "metadata": {},
   "outputs": [
    {
     "name": "stdout",
     "output_type": "stream",
     "text": [
      "[[0.0, 3, 1.0, 1, 0, 1, 0, 2.0]] [2.19961703]\n"
     ]
    }
   ],
   "source": [
    "new_input = [[0.0 ,3 ,1.0 ,1 ,0 ,1,0 ,2.0]]\n",
    "new_output = clf.predict(new_input)\n",
    "print(new_input, new_output)"
   ]
  },
  {
   "cell_type": "code",
   "execution_count": 24,
   "metadata": {},
   "outputs": [
    {
     "name": "stdout",
     "output_type": "stream",
     "text": [
      "[[0.0, 4, 0.0, 1, 0, 0, 1, 2.0]] [4.9000196]\n"
     ]
    }
   ],
   "source": [
    "new_input = [[0.0 ,4 ,0.0 ,1 ,0 ,0,1 ,2.0]]\n",
    "new_output = clf.predict(new_input)\n",
    "print(new_input, new_output)"
   ]
  },
  {
   "cell_type": "markdown",
   "metadata": {},
   "source": [
    "Use the inputs from the first couple rows, the ouputs we get seem to at most be about 1 and a half points off, but nothing too drastic "
   ]
  },
  {
   "cell_type": "code",
   "execution_count": null,
   "metadata": {},
   "outputs": [],
   "source": []
  }
 ],
 "metadata": {
  "kernelspec": {
   "display_name": "Python 3",
   "language": "python",
   "name": "python3"
  },
  "language_info": {
   "codemirror_mode": {
    "name": "ipython",
    "version": 3
   },
   "file_extension": ".py",
   "mimetype": "text/x-python",
   "name": "python",
   "nbconvert_exporter": "python",
   "pygments_lexer": "ipython3",
   "version": "3.7.3"
  }
 },
 "nbformat": 4,
 "nbformat_minor": 2
}
